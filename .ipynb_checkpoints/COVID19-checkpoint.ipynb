{
 "cells": [
  {
   "cell_type": "code",
   "execution_count": 1,
   "metadata": {},
   "outputs": [],
   "source": [
    "import pandas,numpy\n",
    "import seaborn , matplotlib\n",
    "%matplotlib inline\n",
    "import json"
   ]
  },
  {
   "cell_type": "code",
   "execution_count": 2,
   "metadata": {},
   "outputs": [],
   "source": [
    "import COVID19Py"
   ]
  },
  {
   "cell_type": "code",
   "execution_count": 3,
   "metadata": {},
   "outputs": [],
   "source": [
    "covid = COVID19Py.COVID19()"
   ]
  },
  {
   "cell_type": "code",
   "execution_count": 4,
   "metadata": {},
   "outputs": [],
   "source": [
    "data = covid.getAll(timelines=True)"
   ]
  },
  {
   "cell_type": "code",
   "execution_count": 5,
   "metadata": {},
   "outputs": [
    {
     "data": {
      "text/plain": [
       "{'confirmed': 1691719, 'deaths': 102525, 'recovered': 0}"
      ]
     },
     "execution_count": 5,
     "metadata": {},
     "output_type": "execute_result"
    }
   ],
   "source": [
    "covid.getLatest()"
   ]
  },
  {
   "cell_type": "code",
   "execution_count": 6,
   "metadata": {},
   "outputs": [
    {
     "data": {
      "text/plain": [
       "dict_keys(['latest', 'locations'])"
      ]
     },
     "execution_count": 6,
     "metadata": {},
     "output_type": "execute_result"
    }
   ],
   "source": [
    "data.keys()"
   ]
  },
  {
   "cell_type": "code",
   "execution_count": 7,
   "metadata": {},
   "outputs": [
    {
     "data": {
      "text/plain": [
       "dict_keys(['id', 'country', 'country_code', 'country_population', 'province', 'last_updated', 'coordinates', 'latest', 'timelines'])"
      ]
     },
     "execution_count": 7,
     "metadata": {},
     "output_type": "execute_result"
    }
   ],
   "source": [
    "data['locations'][1].keys()"
   ]
  },
  {
   "cell_type": "code",
   "execution_count": 8,
   "metadata": {},
   "outputs": [
    {
     "data": {
      "text/plain": [
       "'Albania'"
      ]
     },
     "execution_count": 8,
     "metadata": {},
     "output_type": "execute_result"
    }
   ],
   "source": [
    "data['locations'][1]['country']"
   ]
  },
  {
   "cell_type": "code",
   "execution_count": 9,
   "metadata": {},
   "outputs": [
    {
     "data": {
      "text/plain": [
       "'AL'"
      ]
     },
     "execution_count": 9,
     "metadata": {},
     "output_type": "execute_result"
    }
   ],
   "source": [
    "data['locations'][1]['country_code']"
   ]
  },
  {
   "cell_type": "code",
   "execution_count": 10,
   "metadata": {},
   "outputs": [
    {
     "data": {
      "text/plain": [
       "'2020-04-11T22:29:58.282122Z'"
      ]
     },
     "execution_count": 10,
     "metadata": {},
     "output_type": "execute_result"
    }
   ],
   "source": [
    "data['locations'][1]['last_updated']"
   ]
  },
  {
   "cell_type": "code",
   "execution_count": 11,
   "metadata": {},
   "outputs": [
    {
     "data": {
      "text/plain": [
       "dict_keys(['confirmed', 'deaths', 'recovered'])"
      ]
     },
     "execution_count": 11,
     "metadata": {},
     "output_type": "execute_result"
    }
   ],
   "source": [
    "data['locations'][1]['timelines'].keys()"
   ]
  },
  {
   "cell_type": "code",
   "execution_count": 12,
   "metadata": {},
   "outputs": [
    {
     "data": {
      "text/plain": [
       "dict_keys(['latest', 'timeline'])"
      ]
     },
     "execution_count": 12,
     "metadata": {},
     "output_type": "execute_result"
    }
   ],
   "source": [
    "data['locations'][1]['timelines']['confirmed'].keys()"
   ]
  },
  {
   "cell_type": "code",
   "execution_count": 13,
   "metadata": {},
   "outputs": [
    {
     "data": {
      "text/plain": [
       "80"
      ]
     },
     "execution_count": 13,
     "metadata": {},
     "output_type": "execute_result"
    }
   ],
   "source": [
    "len(data['locations'][1]['timelines']['deaths']['timeline'])"
   ]
  },
  {
   "cell_type": "code",
   "execution_count": 14,
   "metadata": {},
   "outputs": [],
   "source": [
    "Confirmed_Cases = list(data['locations'][1]['timelines']['confirmed']['timeline'].values())\n",
    "Deaths = list(data['locations'][1]['timelines']['deaths']['timeline'].values())\n",
    "TimeLines = list(data['locations'][1]['timelines']['deaths']['timeline'].keys())"
   ]
  },
  {
   "cell_type": "code",
   "execution_count": 15,
   "metadata": {},
   "outputs": [
    {
     "data": {
      "text/html": [
       "<div>\n",
       "<style scoped>\n",
       "    .dataframe tbody tr th:only-of-type {\n",
       "        vertical-align: middle;\n",
       "    }\n",
       "\n",
       "    .dataframe tbody tr th {\n",
       "        vertical-align: top;\n",
       "    }\n",
       "\n",
       "    .dataframe thead th {\n",
       "        text-align: right;\n",
       "    }\n",
       "</style>\n",
       "<table border=\"1\" class=\"dataframe\">\n",
       "  <thead>\n",
       "    <tr style=\"text-align: right;\">\n",
       "      <th></th>\n",
       "      <th>TimeLine</th>\n",
       "      <th>Cases</th>\n",
       "      <th>Deaths</th>\n",
       "    </tr>\n",
       "  </thead>\n",
       "  <tbody>\n",
       "    <tr>\n",
       "      <th>0</th>\n",
       "      <td>2020-01-22T00:00:00Z</td>\n",
       "      <td>0</td>\n",
       "      <td>0</td>\n",
       "    </tr>\n",
       "    <tr>\n",
       "      <th>1</th>\n",
       "      <td>2020-01-23T00:00:00Z</td>\n",
       "      <td>0</td>\n",
       "      <td>0</td>\n",
       "    </tr>\n",
       "    <tr>\n",
       "      <th>2</th>\n",
       "      <td>2020-01-24T00:00:00Z</td>\n",
       "      <td>0</td>\n",
       "      <td>0</td>\n",
       "    </tr>\n",
       "    <tr>\n",
       "      <th>3</th>\n",
       "      <td>2020-01-25T00:00:00Z</td>\n",
       "      <td>0</td>\n",
       "      <td>0</td>\n",
       "    </tr>\n",
       "    <tr>\n",
       "      <th>4</th>\n",
       "      <td>2020-01-26T00:00:00Z</td>\n",
       "      <td>0</td>\n",
       "      <td>0</td>\n",
       "    </tr>\n",
       "  </tbody>\n",
       "</table>\n",
       "</div>"
      ],
      "text/plain": [
       "               TimeLine  Cases  Deaths\n",
       "0  2020-01-22T00:00:00Z      0       0\n",
       "1  2020-01-23T00:00:00Z      0       0\n",
       "2  2020-01-24T00:00:00Z      0       0\n",
       "3  2020-01-25T00:00:00Z      0       0\n",
       "4  2020-01-26T00:00:00Z      0       0"
      ]
     },
     "execution_count": 15,
     "metadata": {},
     "output_type": "execute_result"
    }
   ],
   "source": [
    "Df = {'TimeLine':TimeLines ,'Cases':Confirmed_Cases , 'Deaths':Deaths}\n",
    "Countrywise_test_dataframe = pandas.DataFrame(Df)\n",
    "Countrywise_test_dataframe.head()\n",
    "\n"
   ]
  },
  {
   "cell_type": "code",
   "execution_count": 16,
   "metadata": {},
   "outputs": [
    {
     "data": {
      "text/plain": [
       "',TimeLine,Cases,Deaths\\n0,2020-01-22T00:00:00Z,0,0\\n1,2020-01-23T00:00:00Z,0,0\\n2,2020-01-24T00:00:00Z,0,0\\n3,2020-01-25T00:00:00Z,0,0\\n4,2020-01-26T00:00:00Z,0,0\\n5,2020-01-27T00:00:00Z,0,0\\n6,2020-01-28T00:00:00Z,0,0\\n7,2020-01-29T00:00:00Z,0,0\\n8,2020-01-30T00:00:00Z,0,0\\n9,2020-01-31T00:00:00Z,0,0\\n10,2020-02-01T00:00:00Z,0,0\\n11,2020-02-02T00:00:00Z,0,0\\n12,2020-02-03T00:00:00Z,0,0\\n13,2020-02-04T00:00:00Z,0,0\\n14,2020-02-05T00:00:00Z,0,0\\n15,2020-02-06T00:00:00Z,0,0\\n16,2020-02-07T00:00:00Z,0,0\\n17,2020-02-08T00:00:00Z,0,0\\n18,2020-02-09T00:00:00Z,0,0\\n19,2020-02-10T00:00:00Z,0,0\\n20,2020-02-11T00:00:00Z,0,0\\n21,2020-02-12T00:00:00Z,0,0\\n22,2020-02-13T00:00:00Z,0,0\\n23,2020-02-14T00:00:00Z,0,0\\n24,2020-02-15T00:00:00Z,0,0\\n25,2020-02-16T00:00:00Z,0,0\\n26,2020-02-17T00:00:00Z,0,0\\n27,2020-02-18T00:00:00Z,0,0\\n28,2020-02-19T00:00:00Z,0,0\\n29,2020-02-20T00:00:00Z,0,0\\n30,2020-02-21T00:00:00Z,0,0\\n31,2020-02-22T00:00:00Z,0,0\\n32,2020-02-23T00:00:00Z,0,0\\n33,2020-02-24T00:00:00Z,0,0\\n34,2020-02-25T00:00:00Z,0,0\\n35,2020-02-26T00:00:00Z,0,0\\n36,2020-02-27T00:00:00Z,0,0\\n37,2020-02-28T00:00:00Z,0,0\\n38,2020-02-29T00:00:00Z,0,0\\n39,2020-03-01T00:00:00Z,0,0\\n40,2020-03-02T00:00:00Z,0,0\\n41,2020-03-03T00:00:00Z,0,0\\n42,2020-03-04T00:00:00Z,0,0\\n43,2020-03-05T00:00:00Z,0,0\\n44,2020-03-06T00:00:00Z,0,0\\n45,2020-03-07T00:00:00Z,0,0\\n46,2020-03-08T00:00:00Z,0,0\\n47,2020-03-09T00:00:00Z,2,0\\n48,2020-03-10T00:00:00Z,10,0\\n49,2020-03-11T00:00:00Z,12,1\\n50,2020-03-12T00:00:00Z,23,1\\n51,2020-03-13T00:00:00Z,33,1\\n52,2020-03-14T00:00:00Z,38,1\\n53,2020-03-15T00:00:00Z,42,1\\n54,2020-03-16T00:00:00Z,51,1\\n55,2020-03-17T00:00:00Z,55,1\\n56,2020-03-18T00:00:00Z,59,2\\n57,2020-03-19T00:00:00Z,64,2\\n58,2020-03-20T00:00:00Z,70,2\\n59,2020-03-21T00:00:00Z,76,2\\n60,2020-03-22T00:00:00Z,89,2\\n61,2020-03-23T00:00:00Z,104,4\\n62,2020-03-24T00:00:00Z,123,5\\n63,2020-03-25T00:00:00Z,146,5\\n64,2020-03-26T00:00:00Z,174,6\\n65,2020-03-27T00:00:00Z,186,8\\n66,2020-03-28T00:00:00Z,197,10\\n67,2020-03-29T00:00:00Z,212,10\\n68,2020-03-30T00:00:00Z,223,11\\n69,2020-03-31T00:00:00Z,243,15\\n70,2020-04-01T00:00:00Z,259,15\\n71,2020-04-02T00:00:00Z,277,16\\n72,2020-04-03T00:00:00Z,304,17\\n73,2020-04-04T00:00:00Z,333,20\\n74,2020-04-05T00:00:00Z,361,20\\n75,2020-04-06T00:00:00Z,377,21\\n76,2020-04-07T00:00:00Z,383,22\\n77,2020-04-08T00:00:00Z,400,22\\n78,2020-04-09T00:00:00Z,409,23\\n79,2020-04-10T00:00:00Z,416,23\\n'"
      ]
     },
     "execution_count": 16,
     "metadata": {},
     "output_type": "execute_result"
    }
   ],
   "source": [
    "Countrywise_test_dataframe.to_csv()"
   ]
  },
  {
   "cell_type": "code",
   "execution_count": 17,
   "metadata": {},
   "outputs": [],
   "source": [
    "import subprocess\n",
    "subprocess.call(\"mkdir 'Countries_TimeLine_Data'\" , shell=True )\n",
    "for item in data['locations']:\n",
    "    Country_name = item['country']\n",
    "    if item['province']=='':\n",
    "        #print(Country_name)\n",
    "        pass\n",
    "    else:\n",
    "        #print(Country_name , item['province'])\n",
    "        pass\n",
    "    "
   ]
  },
  {
   "cell_type": "code",
   "execution_count": 18,
   "metadata": {},
   "outputs": [
    {
     "name": "stdout",
     "output_type": "stream",
     "text": [
      "['Australia', 'Canada', 'China', 'Denmark', 'France', 'Netherlands', 'United Kingdom']\n"
     ]
    }
   ],
   "source": [
    "import subprocess\n",
    "Confirmed_Cases1 = []\n",
    "Deaths1 = []\n",
    "current_Country = {}\n",
    "subprocess.call(\"mkdir 'Countries_TimeLine_Data'\" , shell=True )\n",
    "for item in data['locations']:\n",
    "    Country_name = item['country']\n",
    "    \n",
    "\n",
    "    if item['province']=='':\n",
    "        #print(Country_name)\n",
    "        Confirmed_Cases = list(item['timelines']['confirmed']['timeline'].values())\n",
    "        Deaths = list(item['timelines']['deaths']['timeline'].values())\n",
    "        TimeLines = list(item['timelines']['deaths']['timeline'].keys())\n",
    "        \n",
    "        Df = {'TimeLine':TimeLines ,'Cases':Confirmed_Cases , 'Deaths':Deaths}\n",
    "        Countrywise_test_dataframe = pandas.DataFrame(Df)\n",
    "        \n",
    "        Countrywise_test_dataframe.to_csv('Countries_TimeLine_Data/'+str(Country_name)+'.csv',index=False)\n",
    "        \n",
    "    else:\n",
    "        #print(Country_name , item['province'])\n",
    "        #if current_Country != Country_name:\n",
    "            #current_Country = Country_name\n",
    "            \n",
    "            \n",
    "        if Country_name in list(current_Country.keys()):\n",
    "            \n",
    "            Confirmed_Cases = list(item['timelines']['confirmed']['timeline'].values())\n",
    "            Deaths = list(item['timelines']['deaths']['timeline'].values())\n",
    "            TimeLines = list(item['timelines']['deaths']['timeline'].keys())\n",
    "            Confirmed_Cases1 = current_Country[Country_name][0]\n",
    "            Deaths1 = current_Country[Country_name][1]\n",
    "            Confirmed_Cases = [Confirmed_Cases[j]+Confirmed_Cases1[j] for j in range(len(Confirmed_Cases))]\n",
    "            Deaths = [Deaths[j]+Deaths1[j] for j in range(len(Deaths))]\n",
    "            \n",
    "            Confirmed_Cases1 = Confirmed_Cases\n",
    "            Deaths1 = Deaths\n",
    "            \n",
    "            current_Country[Country_name] = [Confirmed_Cases1 , Deaths1]\n",
    "            \n",
    "            Df = {'TimeLine':TimeLines ,'Cases':Confirmed_Cases , 'Deaths':Deaths}\n",
    "            Countrywise_test_dataframe = pandas.DataFrame(Df)\n",
    "            Countrywise_test_dataframe.to_csv('Countries_TimeLine_Data/'+str(Country_name)+'.csv',index=False)\n",
    "        else:\n",
    "            Confirmed_Cases = list(item['timelines']['confirmed']['timeline'].values())\n",
    "            Deaths = list(item['timelines']['deaths']['timeline'].values())\n",
    "            TimeLines = list(item['timelines']['deaths']['timeline'].keys())\n",
    "                \n",
    "            Confirmed_Cases1 = Confirmed_Cases\n",
    "            Deaths1 = Deaths\n",
    "            current_Country[Country_name] = [Confirmed_Cases1 , Deaths1]\n",
    "            \n",
    "            Df = {'TimeLine':TimeLines ,'Cases':Confirmed_Cases , 'Deaths':Deaths}\n",
    "            Countrywise_test_dataframe = pandas.DataFrame(Df)\n",
    "            Countrywise_test_dataframe.to_csv('Countries_TimeLine_Data/'+str(Country_name)+'.csv',index=False)\n",
    "print(list(current_Country.keys()))\n",
    "    "
   ]
  },
  {
   "cell_type": "code",
   "execution_count": 19,
   "metadata": {},
   "outputs": [],
   "source": [
    "import subprocess , os,sys\n",
    "temp_file = open(\"temp.json\",'w')"
   ]
  },
  {
   "cell_type": "code",
   "execution_count": 20,
   "metadata": {},
   "outputs": [
    {
     "data": {
      "text/plain": [
       "0"
      ]
     },
     "execution_count": 20,
     "metadata": {},
     "output_type": "execute_result"
    }
   ],
   "source": [
    "subprocess.call(\"curl --location --request GET 'https://api.covid19api.com/summary'\" , shell=True , stdout = temp_file)"
   ]
  },
  {
   "cell_type": "code",
   "execution_count": 21,
   "metadata": {},
   "outputs": [],
   "source": [
    "with open(\"temp.json\",'r') as file:\n",
    "    output = json.load(file)"
   ]
  },
  {
   "cell_type": "code",
   "execution_count": 22,
   "metadata": {},
   "outputs": [
    {
     "data": {
      "text/plain": [
       "248"
      ]
     },
     "execution_count": 22,
     "metadata": {},
     "output_type": "execute_result"
    }
   ],
   "source": [
    "len(output['Countries'])"
   ]
  },
  {
   "cell_type": "code",
   "execution_count": null,
   "metadata": {},
   "outputs": [],
   "source": []
  },
  {
   "cell_type": "code",
   "execution_count": 23,
   "metadata": {},
   "outputs": [
    {
     "data": {
      "text/plain": [
       "array(['Country', 'CountryCode', 'Slug', 'NewConfirmed', 'TotalConfirmed',\n",
       "       'NewDeaths', 'TotalDeaths', 'NewRecovered', 'TotalRecovered',\n",
       "       'Date'], dtype='<U14')"
      ]
     },
     "execution_count": 23,
     "metadata": {},
     "output_type": "execute_result"
    }
   ],
   "source": [
    "numpy.array(list(output['Countries'][100].keys()))"
   ]
  },
  {
   "cell_type": "code",
   "execution_count": 24,
   "metadata": {},
   "outputs": [],
   "source": [
    "Data = pandas.DataFrame([list(output['Countries'][i].values()) for i in range(len(output['Countries'])) ] ,columns=list(output['Countries'][100].keys()))"
   ]
  },
  {
   "cell_type": "code",
   "execution_count": 13,
   "metadata": {},
   "outputs": [
    {
     "data": {
      "text/html": [
       "<div>\n",
       "<style scoped>\n",
       "    .dataframe tbody tr th:only-of-type {\n",
       "        vertical-align: middle;\n",
       "    }\n",
       "\n",
       "    .dataframe tbody tr th {\n",
       "        vertical-align: top;\n",
       "    }\n",
       "\n",
       "    .dataframe thead th {\n",
       "        text-align: right;\n",
       "    }\n",
       "</style>\n",
       "<table border=\"1\" class=\"dataframe\">\n",
       "  <thead>\n",
       "    <tr style=\"text-align: right;\">\n",
       "      <th></th>\n",
       "      <th>Country</th>\n",
       "      <th>CountryCode</th>\n",
       "      <th>Slug</th>\n",
       "      <th>NewConfirmed</th>\n",
       "      <th>TotalConfirmed</th>\n",
       "      <th>NewDeaths</th>\n",
       "      <th>TotalDeaths</th>\n",
       "      <th>NewRecovered</th>\n",
       "      <th>TotalRecovered</th>\n",
       "      <th>Date</th>\n",
       "    </tr>\n",
       "  </thead>\n",
       "  <tbody>\n",
       "    <tr>\n",
       "      <th>0</th>\n",
       "      <td>ALA Aland Islands</td>\n",
       "      <td>AX</td>\n",
       "      <td>ala-aland-islands</td>\n",
       "      <td>0</td>\n",
       "      <td>0</td>\n",
       "      <td>0</td>\n",
       "      <td>0</td>\n",
       "      <td>0</td>\n",
       "      <td>0</td>\n",
       "      <td>2020-04-09T18:19:18Z</td>\n",
       "    </tr>\n",
       "    <tr>\n",
       "      <th>1</th>\n",
       "      <td>Afghanistan</td>\n",
       "      <td>AF</td>\n",
       "      <td>afghanistan</td>\n",
       "      <td>21</td>\n",
       "      <td>444</td>\n",
       "      <td>0</td>\n",
       "      <td>14</td>\n",
       "      <td>11</td>\n",
       "      <td>29</td>\n",
       "      <td>2020-04-09T18:19:18Z</td>\n",
       "    </tr>\n",
       "    <tr>\n",
       "      <th>2</th>\n",
       "      <td>Albania</td>\n",
       "      <td>AL</td>\n",
       "      <td>albania</td>\n",
       "      <td>17</td>\n",
       "      <td>400</td>\n",
       "      <td>0</td>\n",
       "      <td>22</td>\n",
       "      <td>23</td>\n",
       "      <td>154</td>\n",
       "      <td>2020-04-09T18:19:18Z</td>\n",
       "    </tr>\n",
       "    <tr>\n",
       "      <th>3</th>\n",
       "      <td>Algeria</td>\n",
       "      <td>DZ</td>\n",
       "      <td>algeria</td>\n",
       "      <td>104</td>\n",
       "      <td>1572</td>\n",
       "      <td>12</td>\n",
       "      <td>205</td>\n",
       "      <td>124</td>\n",
       "      <td>237</td>\n",
       "      <td>2020-04-09T18:19:18Z</td>\n",
       "    </tr>\n",
       "    <tr>\n",
       "      <th>4</th>\n",
       "      <td>American Samoa</td>\n",
       "      <td>AS</td>\n",
       "      <td>american-samoa</td>\n",
       "      <td>0</td>\n",
       "      <td>0</td>\n",
       "      <td>0</td>\n",
       "      <td>0</td>\n",
       "      <td>0</td>\n",
       "      <td>0</td>\n",
       "      <td>2020-04-09T18:19:18Z</td>\n",
       "    </tr>\n",
       "  </tbody>\n",
       "</table>\n",
       "</div>"
      ],
      "text/plain": [
       "             Country CountryCode               Slug  NewConfirmed  \\\n",
       "0  ALA Aland Islands          AX  ala-aland-islands             0   \n",
       "1        Afghanistan          AF        afghanistan            21   \n",
       "2            Albania          AL            albania            17   \n",
       "3            Algeria          DZ            algeria           104   \n",
       "4     American Samoa          AS     american-samoa             0   \n",
       "\n",
       "   TotalConfirmed  NewDeaths  TotalDeaths  NewRecovered  TotalRecovered  \\\n",
       "0               0          0            0             0               0   \n",
       "1             444          0           14            11              29   \n",
       "2             400          0           22            23             154   \n",
       "3            1572         12          205           124             237   \n",
       "4               0          0            0             0               0   \n",
       "\n",
       "                   Date  \n",
       "0  2020-04-09T18:19:18Z  \n",
       "1  2020-04-09T18:19:18Z  \n",
       "2  2020-04-09T18:19:18Z  \n",
       "3  2020-04-09T18:19:18Z  \n",
       "4  2020-04-09T18:19:18Z  "
      ]
     },
     "execution_count": 13,
     "metadata": {},
     "output_type": "execute_result"
    }
   ],
   "source": [
    "Data.head()"
   ]
  },
  {
   "cell_type": "code",
   "execution_count": 14,
   "metadata": {},
   "outputs": [
    {
     "data": {
      "text/html": [
       "<div>\n",
       "<style scoped>\n",
       "    .dataframe tbody tr th:only-of-type {\n",
       "        vertical-align: middle;\n",
       "    }\n",
       "\n",
       "    .dataframe tbody tr th {\n",
       "        vertical-align: top;\n",
       "    }\n",
       "\n",
       "    .dataframe thead th {\n",
       "        text-align: right;\n",
       "    }\n",
       "</style>\n",
       "<table border=\"1\" class=\"dataframe\">\n",
       "  <thead>\n",
       "    <tr style=\"text-align: right;\">\n",
       "      <th></th>\n",
       "      <th>Country</th>\n",
       "      <th>CountryCode</th>\n",
       "      <th>Slug</th>\n",
       "      <th>NewConfirmed</th>\n",
       "      <th>TotalConfirmed</th>\n",
       "      <th>NewDeaths</th>\n",
       "      <th>TotalDeaths</th>\n",
       "      <th>NewRecovered</th>\n",
       "      <th>TotalRecovered</th>\n",
       "      <th>Date</th>\n",
       "    </tr>\n",
       "  </thead>\n",
       "  <tbody>\n",
       "    <tr>\n",
       "      <th>0</th>\n",
       "      <td>ALA Aland Islands</td>\n",
       "      <td>AX</td>\n",
       "      <td>ala-aland-islands</td>\n",
       "      <td>0</td>\n",
       "      <td>0</td>\n",
       "      <td>0</td>\n",
       "      <td>0</td>\n",
       "      <td>0</td>\n",
       "      <td>0</td>\n",
       "      <td>2020-04-09T18:19:18Z</td>\n",
       "    </tr>\n",
       "    <tr>\n",
       "      <th>1</th>\n",
       "      <td>Afghanistan</td>\n",
       "      <td>AF</td>\n",
       "      <td>afghanistan</td>\n",
       "      <td>21</td>\n",
       "      <td>444</td>\n",
       "      <td>0</td>\n",
       "      <td>14</td>\n",
       "      <td>11</td>\n",
       "      <td>29</td>\n",
       "      <td>2020-04-09T18:19:18Z</td>\n",
       "    </tr>\n",
       "    <tr>\n",
       "      <th>2</th>\n",
       "      <td>Albania</td>\n",
       "      <td>AL</td>\n",
       "      <td>albania</td>\n",
       "      <td>17</td>\n",
       "      <td>400</td>\n",
       "      <td>0</td>\n",
       "      <td>22</td>\n",
       "      <td>23</td>\n",
       "      <td>154</td>\n",
       "      <td>2020-04-09T18:19:18Z</td>\n",
       "    </tr>\n",
       "    <tr>\n",
       "      <th>3</th>\n",
       "      <td>Algeria</td>\n",
       "      <td>DZ</td>\n",
       "      <td>algeria</td>\n",
       "      <td>104</td>\n",
       "      <td>1572</td>\n",
       "      <td>12</td>\n",
       "      <td>205</td>\n",
       "      <td>124</td>\n",
       "      <td>237</td>\n",
       "      <td>2020-04-09T18:19:18Z</td>\n",
       "    </tr>\n",
       "    <tr>\n",
       "      <th>4</th>\n",
       "      <td>American Samoa</td>\n",
       "      <td>AS</td>\n",
       "      <td>american-samoa</td>\n",
       "      <td>0</td>\n",
       "      <td>0</td>\n",
       "      <td>0</td>\n",
       "      <td>0</td>\n",
       "      <td>0</td>\n",
       "      <td>0</td>\n",
       "      <td>2020-04-09T18:19:18Z</td>\n",
       "    </tr>\n",
       "  </tbody>\n",
       "</table>\n",
       "</div>"
      ],
      "text/plain": [
       "             Country CountryCode               Slug  NewConfirmed  \\\n",
       "0  ALA Aland Islands          AX  ala-aland-islands             0   \n",
       "1        Afghanistan          AF        afghanistan            21   \n",
       "2            Albania          AL            albania            17   \n",
       "3            Algeria          DZ            algeria           104   \n",
       "4     American Samoa          AS     american-samoa             0   \n",
       "\n",
       "   TotalConfirmed  NewDeaths  TotalDeaths  NewRecovered  TotalRecovered  \\\n",
       "0               0          0            0             0               0   \n",
       "1             444          0           14            11              29   \n",
       "2             400          0           22            23             154   \n",
       "3            1572         12          205           124             237   \n",
       "4               0          0            0             0               0   \n",
       "\n",
       "                   Date  \n",
       "0  2020-04-09T18:19:18Z  \n",
       "1  2020-04-09T18:19:18Z  \n",
       "2  2020-04-09T18:19:18Z  \n",
       "3  2020-04-09T18:19:18Z  \n",
       "4  2020-04-09T18:19:18Z  "
      ]
     },
     "execution_count": 14,
     "metadata": {},
     "output_type": "execute_result"
    }
   ],
   "source": [
    "Data.head()"
   ]
  },
  {
   "cell_type": "code",
   "execution_count": 15,
   "metadata": {},
   "outputs": [],
   "source": [
    "Data = Data.drop('Slug',axis=1)"
   ]
  },
  {
   "cell_type": "code",
   "execution_count": 16,
   "metadata": {},
   "outputs": [
    {
     "data": {
      "text/html": [
       "<div>\n",
       "<style scoped>\n",
       "    .dataframe tbody tr th:only-of-type {\n",
       "        vertical-align: middle;\n",
       "    }\n",
       "\n",
       "    .dataframe tbody tr th {\n",
       "        vertical-align: top;\n",
       "    }\n",
       "\n",
       "    .dataframe thead th {\n",
       "        text-align: right;\n",
       "    }\n",
       "</style>\n",
       "<table border=\"1\" class=\"dataframe\">\n",
       "  <thead>\n",
       "    <tr style=\"text-align: right;\">\n",
       "      <th></th>\n",
       "      <th>Country</th>\n",
       "      <th>CountryCode</th>\n",
       "      <th>NewConfirmed</th>\n",
       "      <th>TotalConfirmed</th>\n",
       "      <th>NewDeaths</th>\n",
       "      <th>TotalDeaths</th>\n",
       "      <th>NewRecovered</th>\n",
       "      <th>TotalRecovered</th>\n",
       "      <th>Date</th>\n",
       "    </tr>\n",
       "  </thead>\n",
       "  <tbody>\n",
       "    <tr>\n",
       "      <th>0</th>\n",
       "      <td>ALA Aland Islands</td>\n",
       "      <td>AX</td>\n",
       "      <td>0</td>\n",
       "      <td>0</td>\n",
       "      <td>0</td>\n",
       "      <td>0</td>\n",
       "      <td>0</td>\n",
       "      <td>0</td>\n",
       "      <td>2020-04-09T18:19:18Z</td>\n",
       "    </tr>\n",
       "    <tr>\n",
       "      <th>1</th>\n",
       "      <td>Afghanistan</td>\n",
       "      <td>AF</td>\n",
       "      <td>21</td>\n",
       "      <td>444</td>\n",
       "      <td>0</td>\n",
       "      <td>14</td>\n",
       "      <td>11</td>\n",
       "      <td>29</td>\n",
       "      <td>2020-04-09T18:19:18Z</td>\n",
       "    </tr>\n",
       "    <tr>\n",
       "      <th>2</th>\n",
       "      <td>Albania</td>\n",
       "      <td>AL</td>\n",
       "      <td>17</td>\n",
       "      <td>400</td>\n",
       "      <td>0</td>\n",
       "      <td>22</td>\n",
       "      <td>23</td>\n",
       "      <td>154</td>\n",
       "      <td>2020-04-09T18:19:18Z</td>\n",
       "    </tr>\n",
       "    <tr>\n",
       "      <th>3</th>\n",
       "      <td>Algeria</td>\n",
       "      <td>DZ</td>\n",
       "      <td>104</td>\n",
       "      <td>1572</td>\n",
       "      <td>12</td>\n",
       "      <td>205</td>\n",
       "      <td>124</td>\n",
       "      <td>237</td>\n",
       "      <td>2020-04-09T18:19:18Z</td>\n",
       "    </tr>\n",
       "    <tr>\n",
       "      <th>4</th>\n",
       "      <td>American Samoa</td>\n",
       "      <td>AS</td>\n",
       "      <td>0</td>\n",
       "      <td>0</td>\n",
       "      <td>0</td>\n",
       "      <td>0</td>\n",
       "      <td>0</td>\n",
       "      <td>0</td>\n",
       "      <td>2020-04-09T18:19:18Z</td>\n",
       "    </tr>\n",
       "  </tbody>\n",
       "</table>\n",
       "</div>"
      ],
      "text/plain": [
       "             Country CountryCode  NewConfirmed  TotalConfirmed  NewDeaths  \\\n",
       "0  ALA Aland Islands          AX             0               0          0   \n",
       "1        Afghanistan          AF            21             444          0   \n",
       "2            Albania          AL            17             400          0   \n",
       "3            Algeria          DZ           104            1572         12   \n",
       "4     American Samoa          AS             0               0          0   \n",
       "\n",
       "   TotalDeaths  NewRecovered  TotalRecovered                  Date  \n",
       "0            0             0               0  2020-04-09T18:19:18Z  \n",
       "1           14            11              29  2020-04-09T18:19:18Z  \n",
       "2           22            23             154  2020-04-09T18:19:18Z  \n",
       "3          205           124             237  2020-04-09T18:19:18Z  \n",
       "4            0             0               0  2020-04-09T18:19:18Z  "
      ]
     },
     "execution_count": 16,
     "metadata": {},
     "output_type": "execute_result"
    }
   ],
   "source": [
    "Data.head()"
   ]
  },
  {
   "cell_type": "code",
   "execution_count": 17,
   "metadata": {},
   "outputs": [],
   "source": [
    "Data = Data.sort_values('TotalConfirmed' , axis=0,ascending=False)"
   ]
  },
  {
   "cell_type": "code",
   "execution_count": 18,
   "metadata": {},
   "outputs": [
    {
     "data": {
      "text/html": [
       "<div>\n",
       "<style scoped>\n",
       "    .dataframe tbody tr th:only-of-type {\n",
       "        vertical-align: middle;\n",
       "    }\n",
       "\n",
       "    .dataframe tbody tr th {\n",
       "        vertical-align: top;\n",
       "    }\n",
       "\n",
       "    .dataframe thead th {\n",
       "        text-align: right;\n",
       "    }\n",
       "</style>\n",
       "<table border=\"1\" class=\"dataframe\">\n",
       "  <thead>\n",
       "    <tr style=\"text-align: right;\">\n",
       "      <th></th>\n",
       "      <th>Country</th>\n",
       "      <th>CountryCode</th>\n",
       "      <th>NewConfirmed</th>\n",
       "      <th>TotalConfirmed</th>\n",
       "      <th>NewDeaths</th>\n",
       "      <th>TotalDeaths</th>\n",
       "      <th>NewRecovered</th>\n",
       "      <th>TotalRecovered</th>\n",
       "      <th>Date</th>\n",
       "    </tr>\n",
       "  </thead>\n",
       "  <tbody>\n",
       "    <tr>\n",
       "      <th>236</th>\n",
       "      <td>United States of America</td>\n",
       "      <td>US</td>\n",
       "      <td>32826</td>\n",
       "      <td>429047</td>\n",
       "      <td>1973</td>\n",
       "      <td>14694</td>\n",
       "      <td>1796</td>\n",
       "      <td>23559</td>\n",
       "      <td>2020-04-09T08:36:30Z</td>\n",
       "    </tr>\n",
       "    <tr>\n",
       "      <th>208</th>\n",
       "      <td>Spain</td>\n",
       "      <td>ES</td>\n",
       "      <td>6278</td>\n",
       "      <td>148220</td>\n",
       "      <td>747</td>\n",
       "      <td>14792</td>\n",
       "      <td>4813</td>\n",
       "      <td>48021</td>\n",
       "      <td>2020-04-09T08:36:30Z</td>\n",
       "    </tr>\n",
       "    <tr>\n",
       "      <th>108</th>\n",
       "      <td>Italy</td>\n",
       "      <td>IT</td>\n",
       "      <td>3836</td>\n",
       "      <td>139422</td>\n",
       "      <td>542</td>\n",
       "      <td>17669</td>\n",
       "      <td>2099</td>\n",
       "      <td>26491</td>\n",
       "      <td>2020-04-09T08:36:30Z</td>\n",
       "    </tr>\n",
       "    <tr>\n",
       "      <th>74</th>\n",
       "      <td>France</td>\n",
       "      <td>FR</td>\n",
       "      <td>3894</td>\n",
       "      <td>113959</td>\n",
       "      <td>544</td>\n",
       "      <td>10887</td>\n",
       "      <td>1929</td>\n",
       "      <td>21452</td>\n",
       "      <td>2020-04-09T08:36:30Z</td>\n",
       "    </tr>\n",
       "    <tr>\n",
       "      <th>81</th>\n",
       "      <td>Germany</td>\n",
       "      <td>DE</td>\n",
       "      <td>5633</td>\n",
       "      <td>113296</td>\n",
       "      <td>333</td>\n",
       "      <td>2349</td>\n",
       "      <td>10219</td>\n",
       "      <td>46300</td>\n",
       "      <td>2020-04-09T08:36:30Z</td>\n",
       "    </tr>\n",
       "    <tr>\n",
       "      <th>45</th>\n",
       "      <td>China</td>\n",
       "      <td>CN</td>\n",
       "      <td>91</td>\n",
       "      <td>82809</td>\n",
       "      <td>2</td>\n",
       "      <td>3337</td>\n",
       "      <td>157</td>\n",
       "      <td>77567</td>\n",
       "      <td>2020-04-09T08:36:30Z</td>\n",
       "    </tr>\n",
       "    <tr>\n",
       "      <th>103</th>\n",
       "      <td>Iran, Islamic Republic of</td>\n",
       "      <td>IR</td>\n",
       "      <td>1997</td>\n",
       "      <td>64586</td>\n",
       "      <td>121</td>\n",
       "      <td>3993</td>\n",
       "      <td>2773</td>\n",
       "      <td>29812</td>\n",
       "      <td>2020-04-09T08:36:30Z</td>\n",
       "    </tr>\n",
       "    <tr>\n",
       "      <th>235</th>\n",
       "      <td>United Kingdom</td>\n",
       "      <td>GB</td>\n",
       "      <td>5525</td>\n",
       "      <td>61474</td>\n",
       "      <td>940</td>\n",
       "      <td>7111</td>\n",
       "      <td>20</td>\n",
       "      <td>345</td>\n",
       "      <td>2020-04-09T08:36:30Z</td>\n",
       "    </tr>\n",
       "    <tr>\n",
       "      <th>227</th>\n",
       "      <td>Turkey</td>\n",
       "      <td>TR</td>\n",
       "      <td>4117</td>\n",
       "      <td>38226</td>\n",
       "      <td>87</td>\n",
       "      <td>812</td>\n",
       "      <td>264</td>\n",
       "      <td>1846</td>\n",
       "      <td>2020-04-09T08:36:30Z</td>\n",
       "    </tr>\n",
       "    <tr>\n",
       "      <th>21</th>\n",
       "      <td>Belgium</td>\n",
       "      <td>BE</td>\n",
       "      <td>1209</td>\n",
       "      <td>23403</td>\n",
       "      <td>205</td>\n",
       "      <td>2240</td>\n",
       "      <td>524</td>\n",
       "      <td>4681</td>\n",
       "      <td>2020-04-09T08:36:30Z</td>\n",
       "    </tr>\n",
       "  </tbody>\n",
       "</table>\n",
       "</div>"
      ],
      "text/plain": [
       "                       Country CountryCode  NewConfirmed  TotalConfirmed  \\\n",
       "236   United States of America          US         32826          429047   \n",
       "208                      Spain          ES          6278          148220   \n",
       "108                      Italy          IT          3836          139422   \n",
       "74                      France          FR          3894          113959   \n",
       "81                     Germany          DE          5633          113296   \n",
       "45                       China          CN            91           82809   \n",
       "103  Iran, Islamic Republic of          IR          1997           64586   \n",
       "235             United Kingdom          GB          5525           61474   \n",
       "227                     Turkey          TR          4117           38226   \n",
       "21                     Belgium          BE          1209           23403   \n",
       "\n",
       "     NewDeaths  TotalDeaths  NewRecovered  TotalRecovered  \\\n",
       "236       1973        14694          1796           23559   \n",
       "208        747        14792          4813           48021   \n",
       "108        542        17669          2099           26491   \n",
       "74         544        10887          1929           21452   \n",
       "81         333         2349         10219           46300   \n",
       "45           2         3337           157           77567   \n",
       "103        121         3993          2773           29812   \n",
       "235        940         7111            20             345   \n",
       "227         87          812           264            1846   \n",
       "21         205         2240           524            4681   \n",
       "\n",
       "                     Date  \n",
       "236  2020-04-09T08:36:30Z  \n",
       "208  2020-04-09T08:36:30Z  \n",
       "108  2020-04-09T08:36:30Z  \n",
       "74   2020-04-09T08:36:30Z  \n",
       "81   2020-04-09T08:36:30Z  \n",
       "45   2020-04-09T08:36:30Z  \n",
       "103  2020-04-09T08:36:30Z  \n",
       "235  2020-04-09T08:36:30Z  \n",
       "227  2020-04-09T08:36:30Z  \n",
       "21   2020-04-09T08:36:30Z  "
      ]
     },
     "execution_count": 18,
     "metadata": {},
     "output_type": "execute_result"
    }
   ],
   "source": [
    "Data.head(10)"
   ]
  },
  {
   "cell_type": "code",
   "execution_count": 19,
   "metadata": {},
   "outputs": [
    {
     "data": {
      "text/plain": [
       "<matplotlib.axes._subplots.AxesSubplot at 0x7f7a248d4940>"
      ]
     },
     "execution_count": 19,
     "metadata": {},
     "output_type": "execute_result"
    },
    {
     "data": {
      "image/png": "[encoded data removed]",
      "text/plain": [
       "<Figure size 432x288 with 1 Axes>"
      ]
     },
     "metadata": {
      "needs_background": "light"
     },
     "output_type": "display_data"
    }
   ],
   "source": [
    "seaborn.barplot(x='CountryCode' , y='TotalConfirmed' , data=Data.head(10))"
   ]
  },
  {
   "cell_type": "code",
   "execution_count": 20,
   "metadata": {},
   "outputs": [],
   "source": [
    "Cases = list(Data.iloc[1][[3,5,7]])"
   ]
  },
  {
   "cell_type": "code",
   "execution_count": 21,
   "metadata": {},
   "outputs": [],
   "source": [
    "Cases_key = ['TotalConfirmed' , 'TotalDeaths' , 'TotalRecoved']"
   ]
  },
  {
   "cell_type": "code",
   "execution_count": 22,
   "metadata": {},
   "outputs": [],
   "source": [
    "import subprocess , os,sys\n",
    "countries = open(\"Countries.json\",'w')"
   ]
  },
  {
   "cell_type": "code",
   "execution_count": 23,
   "metadata": {},
   "outputs": [
    {
     "data": {
      "text/plain": [
       "0"
      ]
     },
     "execution_count": 23,
     "metadata": {},
     "output_type": "execute_result"
    }
   ],
   "source": [
    "subprocess.call(\"curl --location --request GET 'https://api.covid19api.com/countries'\" , shell=True , stdout = countries)"
   ]
  },
  {
   "cell_type": "code",
   "execution_count": 24,
   "metadata": {},
   "outputs": [],
   "source": [
    "with open(\"Countries.json\",'r') as file:\n",
    "    output_countries = json.load(file)"
   ]
  },
  {
   "cell_type": "code",
   "execution_count": 25,
   "metadata": {},
   "outputs": [
    {
     "data": {
      "text/plain": [
       "dict_keys(['Country', 'Slug', 'ISO2'])"
      ]
     },
     "execution_count": 25,
     "metadata": {},
     "output_type": "execute_result"
    }
   ],
   "source": [
    "output_countries[0].keys()\n",
    "#list(output_countries[0].values())\n",
    "#len(output_countries)"
   ]
  },
  {
   "cell_type": "code",
   "execution_count": 132,
   "metadata": {},
   "outputs": [],
   "source": [
    "Countries_DataFrame = pandas.DataFrame([list(output_countries[i].values()) for i in range(len(output_countries)) ] ,columns=list(output_countries[100].keys()))"
   ]
  },
  {
   "cell_type": "code",
   "execution_count": 102,
   "metadata": {},
   "outputs": [
    {
     "name": "stdout",
     "output_type": "stream",
     "text": [
      "248\n",
      "https://api.covid19api.com/live/country/india/status/confirmed\n"
     ]
    }
   ],
   "source": [
    "for country in Countries_DataFrame['Slug']:\n",
    "    pass\n",
    "print(len(Countries_DataFrame['Slug']))\n",
    "URL = 'https://api.covid19api.com/live/country/'+str('india')+'/status/confirmed'\n",
    "print(URL)"
   ]
  },
  {
   "cell_type": "code",
   "execution_count": 124,
   "metadata": {},
   "outputs": [],
   "source": [
    "def Country_Data_Load(value):\n",
    "    countries_name = open(\"Country Live Data/\"+str(value[0])+\".json\",'w')\n",
    "    \n",
    "    URL = 'https://api.covid19api.com/live/country/'+str(value[1])+'/status/confirmed/date/2020-01-01T00:00:00Z'\n",
    "    subprocess.call(\"curl --location --request GET \"+str(URL)+ \"\" , shell=True , stdout = countries_name)\n",
    "    \n",
    "    "
   ]
  },
  {
   "cell_type": "code",
   "execution_count": null,
   "metadata": {},
   "outputs": [],
   "source": []
  },
  {
   "cell_type": "code",
   "execution_count": 96,
   "metadata": {},
   "outputs": [
    {
     "name": "stdout",
     "output_type": "stream",
     "text": [
      "https://api.covid19api.com/live/country/india/status/confirmed\n"
     ]
    },
    {
     "data": {
      "text/plain": [
       "0"
      ]
     },
     "execution_count": 96,
     "metadata": {},
     "output_type": "execute_result"
    }
   ],
   "source": [
    "#URL = 'https://api.covid19api.com/live/country/'+str('india')+'/status/confirmed'\n",
    "#print(URL)\n",
    "#countries_india = open(\"Countries.json\",'w')\n",
    "#subprocess.call(\"curl --location --request GET \"+str(URL)+ \"\" , shell=True , stdout = countries_india)"
   ]
  },
  {
   "cell_type": "code",
   "execution_count": 18,
   "metadata": {},
   "outputs": [],
   "source": [
    "import subprocess , os,sys\n",
    "total= open(\"Total.json\",'w')"
   ]
  },
  {
   "cell_type": "code",
   "execution_count": 20,
   "metadata": {},
   "outputs": [
    {
     "data": {
      "text/plain": [
       "0"
      ]
     },
     "execution_count": 20,
     "metadata": {},
     "output_type": "execute_result"
    }
   ],
   "source": [
    "subprocess.call(\"curl --location --request GET 'https://thevirustracker.com/free-api?global=stats'\" , shell=True , stdout = total)"
   ]
  },
  {
   "cell_type": "code",
   "execution_count": 21,
   "metadata": {},
   "outputs": [],
   "source": [
    "with open(\"Total.json\",'r') as file:\n",
    "    output_Total = json.load(file)\n"
   ]
  },
  {
   "cell_type": "code",
   "execution_count": 22,
   "metadata": {},
   "outputs": [
    {
     "data": {
      "text/plain": [
       "{'results': [{'total_cases': 1577364,\n",
       "   'total_recovered': 348094,\n",
       "   'total_unresolved': 1096353,\n",
       "   'total_deaths': 93637,\n",
       "   'total_new_cases_today': 59404,\n",
       "   'total_new_deaths_today': 5182,\n",
       "   'total_active_cases': 1135633,\n",
       "   'total_serious_cases': 48933,\n",
       "   'total_affected_countries': 209,\n",
       "   'source': {'url': 'https://thevirustracker.com/'}}],\n",
       " 'stat': 'ok'}"
      ]
     },
     "execution_count": 22,
     "metadata": {},
     "output_type": "execute_result"
    }
   ],
   "source": [
    "output_Total"
   ]
  },
  {
   "cell_type": "code",
   "execution_count": 23,
   "metadata": {},
   "outputs": [
    {
     "data": {
      "text/plain": [
       "['total_cases',\n",
       " 'total_recovered',\n",
       " 'total_unresolved',\n",
       " 'total_deaths',\n",
       " 'total_new_cases_today',\n",
       " 'total_new_deaths_today',\n",
       " 'total_active_cases',\n",
       " 'total_serious_cases',\n",
       " 'total_affected_countries']"
      ]
     },
     "execution_count": 23,
     "metadata": {},
     "output_type": "execute_result"
    }
   ],
   "source": [
    "V = list(output_Total['results'][0].values())\n",
    "V=V[:-1]\n",
    "K = list(output_Total['results'][0].keys())\n",
    "K = K[:-1]\n",
    "K"
   ]
  },
  {
   "cell_type": "code",
   "execution_count": 24,
   "metadata": {},
   "outputs": [],
   "source": [
    "Total_Data = pandas.DataFrame([V] , columns=K)"
   ]
  },
  {
   "cell_type": "code",
   "execution_count": 25,
   "metadata": {},
   "outputs": [
    {
     "data": {
      "text/html": [
       "<div>\n",
       "<style scoped>\n",
       "    .dataframe tbody tr th:only-of-type {\n",
       "        vertical-align: middle;\n",
       "    }\n",
       "\n",
       "    .dataframe tbody tr th {\n",
       "        vertical-align: top;\n",
       "    }\n",
       "\n",
       "    .dataframe thead th {\n",
       "        text-align: right;\n",
       "    }\n",
       "</style>\n",
       "<table border=\"1\" class=\"dataframe\">\n",
       "  <thead>\n",
       "    <tr style=\"text-align: right;\">\n",
       "      <th></th>\n",
       "      <th>total_cases</th>\n",
       "      <th>total_recovered</th>\n",
       "      <th>total_unresolved</th>\n",
       "      <th>total_deaths</th>\n",
       "      <th>total_new_cases_today</th>\n",
       "      <th>total_new_deaths_today</th>\n",
       "      <th>total_active_cases</th>\n",
       "      <th>total_serious_cases</th>\n",
       "      <th>total_affected_countries</th>\n",
       "    </tr>\n",
       "  </thead>\n",
       "  <tbody>\n",
       "    <tr>\n",
       "      <th>0</th>\n",
       "      <td>1577364</td>\n",
       "      <td>348094</td>\n",
       "      <td>1096353</td>\n",
       "      <td>93637</td>\n",
       "      <td>59404</td>\n",
       "      <td>5182</td>\n",
       "      <td>1135633</td>\n",
       "      <td>48933</td>\n",
       "      <td>209</td>\n",
       "    </tr>\n",
       "  </tbody>\n",
       "</table>\n",
       "</div>"
      ],
      "text/plain": [
       "   total_cases  total_recovered  total_unresolved  total_deaths  \\\n",
       "0      1577364           348094           1096353         93637   \n",
       "\n",
       "   total_new_cases_today  total_new_deaths_today  total_active_cases  \\\n",
       "0                  59404                    5182             1135633   \n",
       "\n",
       "   total_serious_cases  total_affected_countries  \n",
       "0                48933                       209  "
      ]
     },
     "execution_count": 25,
     "metadata": {},
     "output_type": "execute_result"
    }
   ],
   "source": [
    "Total_Data"
   ]
  },
  {
   "cell_type": "code",
   "execution_count": 26,
   "metadata": {},
   "outputs": [],
   "source": [
    "Full_Timeline= open(\"timeline.json\",'w')"
   ]
  },
  {
   "cell_type": "code",
   "execution_count": 27,
   "metadata": {},
   "outputs": [
    {
     "data": {
      "text/plain": [
       "0"
      ]
     },
     "execution_count": 27,
     "metadata": {},
     "output_type": "execute_result"
    }
   ],
   "source": [
    "subprocess.call(\"curl --location --request GET 'https://thevirustracker.com/timeline/map-data.json'\" , shell=True , stdout = Full_Timeline)"
   ]
  },
  {
   "cell_type": "code",
   "execution_count": 28,
   "metadata": {},
   "outputs": [],
   "source": [
    "with open(\"timeline.json\",'r') as file:\n",
    "    output_Timeline = json.load(file)"
   ]
  },
  {
   "cell_type": "code",
   "execution_count": 36,
   "metadata": {},
   "outputs": [],
   "source": [
    "countryCode = []\n",
    "\n",
    "for data in output_Timeline['data']:\n",
    "    countryCode.append(data['countrycode'])\n",
    "#output_Timeline['data']"
   ]
  },
  {
   "cell_type": "code",
   "execution_count": 37,
   "metadata": {},
   "outputs": [
    {
     "data": {
      "text/plain": [
       "dict_values(['CN', '1/22/20', '548', '17', '28'])"
      ]
     },
     "execution_count": 37,
     "metadata": {},
     "output_type": "execute_result"
    }
   ],
   "source": [
    "len(set(countryCode))\n",
    "output_Timeline['data'][0].values()"
   ]
  },
  {
   "cell_type": "code",
   "execution_count": 38,
   "metadata": {},
   "outputs": [],
   "source": [
    "countryValues = []\n",
    "\n",
    "for data in output_Timeline['data']:\n",
    "    countryValues.append(list(data.values()))"
   ]
  },
  {
   "cell_type": "code",
   "execution_count": 39,
   "metadata": {},
   "outputs": [],
   "source": [
    "Timeline_Dataframe = pandas.DataFrame(countryValues , columns=list(output_Timeline['data'][0].keys()))"
   ]
  },
  {
   "cell_type": "code",
   "execution_count": 40,
   "metadata": {},
   "outputs": [
    {
     "data": {
      "text/html": [
       "<div>\n",
       "<style scoped>\n",
       "    .dataframe tbody tr th:only-of-type {\n",
       "        vertical-align: middle;\n",
       "    }\n",
       "\n",
       "    .dataframe tbody tr th {\n",
       "        vertical-align: top;\n",
       "    }\n",
       "\n",
       "    .dataframe thead th {\n",
       "        text-align: right;\n",
       "    }\n",
       "</style>\n",
       "<table border=\"1\" class=\"dataframe\">\n",
       "  <thead>\n",
       "    <tr style=\"text-align: right;\">\n",
       "      <th></th>\n",
       "      <th>countrycode</th>\n",
       "      <th>date</th>\n",
       "      <th>cases</th>\n",
       "      <th>deaths</th>\n",
       "      <th>recovered</th>\n",
       "    </tr>\n",
       "  </thead>\n",
       "  <tbody>\n",
       "    <tr>\n",
       "      <th>6679</th>\n",
       "      <td>BI</td>\n",
       "      <td>4/06/20</td>\n",
       "      <td>3</td>\n",
       "      <td>0</td>\n",
       "      <td>0</td>\n",
       "    </tr>\n",
       "    <tr>\n",
       "      <th>6680</th>\n",
       "      <td>MW</td>\n",
       "      <td>4/06/20</td>\n",
       "      <td>5</td>\n",
       "      <td>0</td>\n",
       "      <td>0</td>\n",
       "    </tr>\n",
       "    <tr>\n",
       "      <th>6681</th>\n",
       "      <td>SS</td>\n",
       "      <td>4/06/20</td>\n",
       "      <td>1</td>\n",
       "      <td>0</td>\n",
       "      <td>0</td>\n",
       "    </tr>\n",
       "    <tr>\n",
       "      <th>6682</th>\n",
       "      <td>EH</td>\n",
       "      <td>4/06/20</td>\n",
       "      <td>4</td>\n",
       "      <td>0</td>\n",
       "      <td>0</td>\n",
       "    </tr>\n",
       "    <tr>\n",
       "      <th>6683</th>\n",
       "      <td>ST</td>\n",
       "      <td>4/06/20</td>\n",
       "      <td>4</td>\n",
       "      <td>0</td>\n",
       "      <td>0</td>\n",
       "    </tr>\n",
       "  </tbody>\n",
       "</table>\n",
       "</div>"
      ],
      "text/plain": [
       "     countrycode     date cases deaths recovered\n",
       "6679          BI  4/06/20     3      0         0\n",
       "6680          MW  4/06/20     5      0         0\n",
       "6681          SS  4/06/20     1      0         0\n",
       "6682          EH  4/06/20     4      0         0\n",
       "6683          ST  4/06/20     4      0         0"
      ]
     },
     "execution_count": 40,
     "metadata": {},
     "output_type": "execute_result"
    }
   ],
   "source": [
    "Timeline_Dataframe.tail()"
   ]
  },
  {
   "cell_type": "code",
   "execution_count": 34,
   "metadata": {},
   "outputs": [],
   "source": [
    "A = Timeline_Dataframe.groupby(by='countrycode')"
   ]
  },
  {
   "cell_type": "code",
   "execution_count": 35,
   "metadata": {},
   "outputs": [
    {
     "data": {
      "text/html": [
       "<div>\n",
       "<style scoped>\n",
       "    .dataframe tbody tr th:only-of-type {\n",
       "        vertical-align: middle;\n",
       "    }\n",
       "\n",
       "    .dataframe tbody tr th {\n",
       "        vertical-align: top;\n",
       "    }\n",
       "\n",
       "    .dataframe thead th {\n",
       "        text-align: right;\n",
       "    }\n",
       "</style>\n",
       "<table border=\"1\" class=\"dataframe\">\n",
       "  <thead>\n",
       "    <tr style=\"text-align: right;\">\n",
       "      <th></th>\n",
       "      <th>countrycode</th>\n",
       "      <th>date</th>\n",
       "      <th>cases</th>\n",
       "      <th>deaths</th>\n",
       "      <th>recovered</th>\n",
       "    </tr>\n",
       "  </thead>\n",
       "  <tbody>\n",
       "    <tr>\n",
       "      <th>5</th>\n",
       "      <td>US</td>\n",
       "      <td>1/22/20</td>\n",
       "      <td>1</td>\n",
       "      <td>0</td>\n",
       "      <td>0</td>\n",
       "    </tr>\n",
       "    <tr>\n",
       "      <th>12</th>\n",
       "      <td>US</td>\n",
       "      <td>1/23/20</td>\n",
       "      <td>1</td>\n",
       "      <td>0</td>\n",
       "      <td>0</td>\n",
       "    </tr>\n",
       "    <tr>\n",
       "      <th>21</th>\n",
       "      <td>US</td>\n",
       "      <td>1/24/20</td>\n",
       "      <td>2</td>\n",
       "      <td>0</td>\n",
       "      <td>0</td>\n",
       "    </tr>\n",
       "    <tr>\n",
       "      <th>32</th>\n",
       "      <td>US</td>\n",
       "      <td>1/25/20</td>\n",
       "      <td>2</td>\n",
       "      <td>0</td>\n",
       "      <td>0</td>\n",
       "    </tr>\n",
       "    <tr>\n",
       "      <th>45</th>\n",
       "      <td>US</td>\n",
       "      <td>1/26/20</td>\n",
       "      <td>5</td>\n",
       "      <td>0</td>\n",
       "      <td>0</td>\n",
       "    </tr>\n",
       "    <tr>\n",
       "      <th>61</th>\n",
       "      <td>US</td>\n",
       "      <td>1/27/20</td>\n",
       "      <td>5</td>\n",
       "      <td>0</td>\n",
       "      <td>0</td>\n",
       "    </tr>\n",
       "    <tr>\n",
       "      <th>77</th>\n",
       "      <td>US</td>\n",
       "      <td>1/28/20</td>\n",
       "      <td>5</td>\n",
       "      <td>0</td>\n",
       "      <td>0</td>\n",
       "    </tr>\n",
       "    <tr>\n",
       "      <th>95</th>\n",
       "      <td>US</td>\n",
       "      <td>1/29/20</td>\n",
       "      <td>5</td>\n",
       "      <td>0</td>\n",
       "      <td>0</td>\n",
       "    </tr>\n",
       "    <tr>\n",
       "      <th>115</th>\n",
       "      <td>US</td>\n",
       "      <td>1/30/20</td>\n",
       "      <td>5</td>\n",
       "      <td>0</td>\n",
       "      <td>0</td>\n",
       "    </tr>\n",
       "    <tr>\n",
       "      <th>139</th>\n",
       "      <td>US</td>\n",
       "      <td>1/31/20</td>\n",
       "      <td>7</td>\n",
       "      <td>0</td>\n",
       "      <td>0</td>\n",
       "    </tr>\n",
       "    <tr>\n",
       "      <th>164</th>\n",
       "      <td>US</td>\n",
       "      <td>2/01/20</td>\n",
       "      <td>8</td>\n",
       "      <td>0</td>\n",
       "      <td>0</td>\n",
       "    </tr>\n",
       "    <tr>\n",
       "      <th>189</th>\n",
       "      <td>US</td>\n",
       "      <td>2/02/20</td>\n",
       "      <td>8</td>\n",
       "      <td>0</td>\n",
       "      <td>0</td>\n",
       "    </tr>\n",
       "    <tr>\n",
       "      <th>214</th>\n",
       "      <td>US</td>\n",
       "      <td>2/03/20</td>\n",
       "      <td>11</td>\n",
       "      <td>0</td>\n",
       "      <td>0</td>\n",
       "    </tr>\n",
       "    <tr>\n",
       "      <th>240</th>\n",
       "      <td>US</td>\n",
       "      <td>2/04/20</td>\n",
       "      <td>11</td>\n",
       "      <td>0</td>\n",
       "      <td>0</td>\n",
       "    </tr>\n",
       "    <tr>\n",
       "      <th>266</th>\n",
       "      <td>US</td>\n",
       "      <td>2/05/20</td>\n",
       "      <td>11</td>\n",
       "      <td>0</td>\n",
       "      <td>0</td>\n",
       "    </tr>\n",
       "    <tr>\n",
       "      <th>292</th>\n",
       "      <td>US</td>\n",
       "      <td>2/06/20</td>\n",
       "      <td>11</td>\n",
       "      <td>0</td>\n",
       "      <td>0</td>\n",
       "    </tr>\n",
       "    <tr>\n",
       "      <th>319</th>\n",
       "      <td>US</td>\n",
       "      <td>2/07/20</td>\n",
       "      <td>11</td>\n",
       "      <td>0</td>\n",
       "      <td>0</td>\n",
       "    </tr>\n",
       "    <tr>\n",
       "      <th>346</th>\n",
       "      <td>US</td>\n",
       "      <td>2/08/20</td>\n",
       "      <td>11</td>\n",
       "      <td>0</td>\n",
       "      <td>0</td>\n",
       "    </tr>\n",
       "    <tr>\n",
       "      <th>373</th>\n",
       "      <td>US</td>\n",
       "      <td>2/09/20</td>\n",
       "      <td>11</td>\n",
       "      <td>0</td>\n",
       "      <td>3</td>\n",
       "    </tr>\n",
       "    <tr>\n",
       "      <th>400</th>\n",
       "      <td>US</td>\n",
       "      <td>2/10/20</td>\n",
       "      <td>11</td>\n",
       "      <td>0</td>\n",
       "      <td>3</td>\n",
       "    </tr>\n",
       "    <tr>\n",
       "      <th>427</th>\n",
       "      <td>US</td>\n",
       "      <td>2/11/20</td>\n",
       "      <td>12</td>\n",
       "      <td>0</td>\n",
       "      <td>3</td>\n",
       "    </tr>\n",
       "    <tr>\n",
       "      <th>454</th>\n",
       "      <td>US</td>\n",
       "      <td>2/12/20</td>\n",
       "      <td>12</td>\n",
       "      <td>0</td>\n",
       "      <td>3</td>\n",
       "    </tr>\n",
       "    <tr>\n",
       "      <th>481</th>\n",
       "      <td>US</td>\n",
       "      <td>2/13/20</td>\n",
       "      <td>13</td>\n",
       "      <td>0</td>\n",
       "      <td>3</td>\n",
       "    </tr>\n",
       "    <tr>\n",
       "      <th>509</th>\n",
       "      <td>US</td>\n",
       "      <td>2/14/20</td>\n",
       "      <td>13</td>\n",
       "      <td>0</td>\n",
       "      <td>3</td>\n",
       "    </tr>\n",
       "    <tr>\n",
       "      <th>537</th>\n",
       "      <td>US</td>\n",
       "      <td>2/15/20</td>\n",
       "      <td>13</td>\n",
       "      <td>0</td>\n",
       "      <td>3</td>\n",
       "    </tr>\n",
       "    <tr>\n",
       "      <th>565</th>\n",
       "      <td>US</td>\n",
       "      <td>2/16/20</td>\n",
       "      <td>13</td>\n",
       "      <td>0</td>\n",
       "      <td>3</td>\n",
       "    </tr>\n",
       "    <tr>\n",
       "      <th>593</th>\n",
       "      <td>US</td>\n",
       "      <td>2/17/20</td>\n",
       "      <td>13</td>\n",
       "      <td>0</td>\n",
       "      <td>3</td>\n",
       "    </tr>\n",
       "    <tr>\n",
       "      <th>621</th>\n",
       "      <td>US</td>\n",
       "      <td>2/18/20</td>\n",
       "      <td>13</td>\n",
       "      <td>0</td>\n",
       "      <td>3</td>\n",
       "    </tr>\n",
       "    <tr>\n",
       "      <th>650</th>\n",
       "      <td>US</td>\n",
       "      <td>2/19/20</td>\n",
       "      <td>13</td>\n",
       "      <td>0</td>\n",
       "      <td>3</td>\n",
       "    </tr>\n",
       "    <tr>\n",
       "      <th>679</th>\n",
       "      <td>US</td>\n",
       "      <td>2/20/20</td>\n",
       "      <td>13</td>\n",
       "      <td>0</td>\n",
       "      <td>3</td>\n",
       "    </tr>\n",
       "    <tr>\n",
       "      <th>...</th>\n",
       "      <td>...</td>\n",
       "      <td>...</td>\n",
       "      <td>...</td>\n",
       "      <td>...</td>\n",
       "      <td>...</td>\n",
       "    </tr>\n",
       "    <tr>\n",
       "      <th>1943</th>\n",
       "      <td>US</td>\n",
       "      <td>3/10/20</td>\n",
       "      <td>959</td>\n",
       "      <td>28</td>\n",
       "      <td>8</td>\n",
       "    </tr>\n",
       "    <tr>\n",
       "      <th>2055</th>\n",
       "      <td>US</td>\n",
       "      <td>3/11/20</td>\n",
       "      <td>1281</td>\n",
       "      <td>36</td>\n",
       "      <td>8</td>\n",
       "    </tr>\n",
       "    <tr>\n",
       "      <th>2286</th>\n",
       "      <td>US</td>\n",
       "      <td>3/13/20</td>\n",
       "      <td>1663</td>\n",
       "      <td>40</td>\n",
       "      <td>12</td>\n",
       "    </tr>\n",
       "    <tr>\n",
       "      <th>2287</th>\n",
       "      <td>US</td>\n",
       "      <td>3/13/20</td>\n",
       "      <td>2179</td>\n",
       "      <td>47</td>\n",
       "      <td>12</td>\n",
       "    </tr>\n",
       "    <tr>\n",
       "      <th>2422</th>\n",
       "      <td>US</td>\n",
       "      <td>3/14/20</td>\n",
       "      <td>2727</td>\n",
       "      <td>54</td>\n",
       "      <td>12</td>\n",
       "    </tr>\n",
       "    <tr>\n",
       "      <th>2559</th>\n",
       "      <td>US</td>\n",
       "      <td>3/15/20</td>\n",
       "      <td>3499</td>\n",
       "      <td>63</td>\n",
       "      <td>12</td>\n",
       "    </tr>\n",
       "    <tr>\n",
       "      <th>2702</th>\n",
       "      <td>US</td>\n",
       "      <td>3/16/20</td>\n",
       "      <td>4632</td>\n",
       "      <td>85</td>\n",
       "      <td>17</td>\n",
       "    </tr>\n",
       "    <tr>\n",
       "      <th>2848</th>\n",
       "      <td>US</td>\n",
       "      <td>3/17/20</td>\n",
       "      <td>6421</td>\n",
       "      <td>108</td>\n",
       "      <td>17</td>\n",
       "    </tr>\n",
       "    <tr>\n",
       "      <th>2997</th>\n",
       "      <td>US</td>\n",
       "      <td>3/18/20</td>\n",
       "      <td>7783</td>\n",
       "      <td>118</td>\n",
       "      <td>105</td>\n",
       "    </tr>\n",
       "    <tr>\n",
       "      <th>3151</th>\n",
       "      <td>US</td>\n",
       "      <td>3/19/20</td>\n",
       "      <td>13677</td>\n",
       "      <td>200</td>\n",
       "      <td>121</td>\n",
       "    </tr>\n",
       "    <tr>\n",
       "      <th>3311</th>\n",
       "      <td>US</td>\n",
       "      <td>3/20/20</td>\n",
       "      <td>19100</td>\n",
       "      <td>244</td>\n",
       "      <td>147</td>\n",
       "    </tr>\n",
       "    <tr>\n",
       "      <th>3474</th>\n",
       "      <td>US</td>\n",
       "      <td>3/21/20</td>\n",
       "      <td>25489</td>\n",
       "      <td>307</td>\n",
       "      <td>176</td>\n",
       "    </tr>\n",
       "    <tr>\n",
       "      <th>3642</th>\n",
       "      <td>US</td>\n",
       "      <td>3/22/20</td>\n",
       "      <td>33276</td>\n",
       "      <td>417</td>\n",
       "      <td>178</td>\n",
       "    </tr>\n",
       "    <tr>\n",
       "      <th>3811</th>\n",
       "      <td>US</td>\n",
       "      <td>3/23/20</td>\n",
       "      <td>43847</td>\n",
       "      <td>557</td>\n",
       "      <td>178</td>\n",
       "    </tr>\n",
       "    <tr>\n",
       "      <th>3981</th>\n",
       "      <td>US</td>\n",
       "      <td>3/24/20</td>\n",
       "      <td>53740</td>\n",
       "      <td>706</td>\n",
       "      <td>348</td>\n",
       "    </tr>\n",
       "    <tr>\n",
       "      <th>4155</th>\n",
       "      <td>US</td>\n",
       "      <td>3/25/20</td>\n",
       "      <td>65778</td>\n",
       "      <td>942</td>\n",
       "      <td>361</td>\n",
       "    </tr>\n",
       "    <tr>\n",
       "      <th>4329</th>\n",
       "      <td>US</td>\n",
       "      <td>3/26/20</td>\n",
       "      <td>83836</td>\n",
       "      <td>1209</td>\n",
       "      <td>681</td>\n",
       "    </tr>\n",
       "    <tr>\n",
       "      <th>4504</th>\n",
       "      <td>US</td>\n",
       "      <td>3/27/20</td>\n",
       "      <td>101657</td>\n",
       "      <td>1581</td>\n",
       "      <td>869</td>\n",
       "    </tr>\n",
       "    <tr>\n",
       "      <th>4680</th>\n",
       "      <td>US</td>\n",
       "      <td>3/28/20</td>\n",
       "      <td>121478</td>\n",
       "      <td>2026</td>\n",
       "      <td>1072</td>\n",
       "    </tr>\n",
       "    <tr>\n",
       "      <th>4857</th>\n",
       "      <td>US</td>\n",
       "      <td>3/29/20</td>\n",
       "      <td>140886</td>\n",
       "      <td>2467</td>\n",
       "      <td>2665</td>\n",
       "    </tr>\n",
       "    <tr>\n",
       "      <th>5034</th>\n",
       "      <td>US</td>\n",
       "      <td>3/30/20</td>\n",
       "      <td>161807</td>\n",
       "      <td>2978</td>\n",
       "      <td>5644</td>\n",
       "    </tr>\n",
       "    <tr>\n",
       "      <th>5212</th>\n",
       "      <td>US</td>\n",
       "      <td>3/31/20</td>\n",
       "      <td>188172</td>\n",
       "      <td>3873</td>\n",
       "      <td>7024</td>\n",
       "    </tr>\n",
       "    <tr>\n",
       "      <th>5392</th>\n",
       "      <td>US</td>\n",
       "      <td>4/01/20</td>\n",
       "      <td>213372</td>\n",
       "      <td>4757</td>\n",
       "      <td>8474</td>\n",
       "    </tr>\n",
       "    <tr>\n",
       "      <th>5566</th>\n",
       "      <td>US</td>\n",
       "      <td>4/02/20</td>\n",
       "      <td>245573</td>\n",
       "      <td>6058</td>\n",
       "      <td>0</td>\n",
       "    </tr>\n",
       "    <tr>\n",
       "      <th>5747</th>\n",
       "      <td>US</td>\n",
       "      <td>4/03/20</td>\n",
       "      <td>275586</td>\n",
       "      <td>7087</td>\n",
       "      <td>0</td>\n",
       "    </tr>\n",
       "    <tr>\n",
       "      <th>5928</th>\n",
       "      <td>US</td>\n",
       "      <td>4/04/20</td>\n",
       "      <td>308533</td>\n",
       "      <td>8376</td>\n",
       "      <td>0</td>\n",
       "    </tr>\n",
       "    <tr>\n",
       "      <th>6109</th>\n",
       "      <td>US</td>\n",
       "      <td>4/05/20</td>\n",
       "      <td>337072</td>\n",
       "      <td>9619</td>\n",
       "      <td>0</td>\n",
       "    </tr>\n",
       "    <tr>\n",
       "      <th>6326</th>\n",
       "      <td>US</td>\n",
       "      <td>4/07/20</td>\n",
       "      <td>396223</td>\n",
       "      <td>12722</td>\n",
       "      <td>0</td>\n",
       "    </tr>\n",
       "    <tr>\n",
       "      <th>6510</th>\n",
       "      <td>US</td>\n",
       "      <td>4/08/20</td>\n",
       "      <td>429052</td>\n",
       "      <td>14695</td>\n",
       "      <td>0</td>\n",
       "    </tr>\n",
       "    <tr>\n",
       "      <th>6660</th>\n",
       "      <td>US</td>\n",
       "      <td>4/06/20</td>\n",
       "      <td>366614</td>\n",
       "      <td>10783</td>\n",
       "      <td>0</td>\n",
       "    </tr>\n",
       "  </tbody>\n",
       "</table>\n",
       "<p>78 rows × 5 columns</p>\n",
       "</div>"
      ],
      "text/plain": [
       "     countrycode     date   cases deaths recovered\n",
       "5             US  1/22/20       1      0         0\n",
       "12            US  1/23/20       1      0         0\n",
       "21            US  1/24/20       2      0         0\n",
       "32            US  1/25/20       2      0         0\n",
       "45            US  1/26/20       5      0         0\n",
       "61            US  1/27/20       5      0         0\n",
       "77            US  1/28/20       5      0         0\n",
       "95            US  1/29/20       5      0         0\n",
       "115           US  1/30/20       5      0         0\n",
       "139           US  1/31/20       7      0         0\n",
       "164           US  2/01/20       8      0         0\n",
       "189           US  2/02/20       8      0         0\n",
       "214           US  2/03/20      11      0         0\n",
       "240           US  2/04/20      11      0         0\n",
       "266           US  2/05/20      11      0         0\n",
       "292           US  2/06/20      11      0         0\n",
       "319           US  2/07/20      11      0         0\n",
       "346           US  2/08/20      11      0         0\n",
       "373           US  2/09/20      11      0         3\n",
       "400           US  2/10/20      11      0         3\n",
       "427           US  2/11/20      12      0         3\n",
       "454           US  2/12/20      12      0         3\n",
       "481           US  2/13/20      13      0         3\n",
       "509           US  2/14/20      13      0         3\n",
       "537           US  2/15/20      13      0         3\n",
       "565           US  2/16/20      13      0         3\n",
       "593           US  2/17/20      13      0         3\n",
       "621           US  2/18/20      13      0         3\n",
       "650           US  2/19/20      13      0         3\n",
       "679           US  2/20/20      13      0         3\n",
       "...          ...      ...     ...    ...       ...\n",
       "1943          US  3/10/20     959     28         8\n",
       "2055          US  3/11/20    1281     36         8\n",
       "2286          US  3/13/20    1663     40        12\n",
       "2287          US  3/13/20    2179     47        12\n",
       "2422          US  3/14/20    2727     54        12\n",
       "2559          US  3/15/20    3499     63        12\n",
       "2702          US  3/16/20    4632     85        17\n",
       "2848          US  3/17/20    6421    108        17\n",
       "2997          US  3/18/20    7783    118       105\n",
       "3151          US  3/19/20   13677    200       121\n",
       "3311          US  3/20/20   19100    244       147\n",
       "3474          US  3/21/20   25489    307       176\n",
       "3642          US  3/22/20   33276    417       178\n",
       "3811          US  3/23/20   43847    557       178\n",
       "3981          US  3/24/20   53740    706       348\n",
       "4155          US  3/25/20   65778    942       361\n",
       "4329          US  3/26/20   83836   1209       681\n",
       "4504          US  3/27/20  101657   1581       869\n",
       "4680          US  3/28/20  121478   2026      1072\n",
       "4857          US  3/29/20  140886   2467      2665\n",
       "5034          US  3/30/20  161807   2978      5644\n",
       "5212          US  3/31/20  188172   3873      7024\n",
       "5392          US  4/01/20  213372   4757      8474\n",
       "5566          US  4/02/20  245573   6058         0\n",
       "5747          US  4/03/20  275586   7087         0\n",
       "5928          US  4/04/20  308533   8376         0\n",
       "6109          US  4/05/20  337072   9619         0\n",
       "6326          US  4/07/20  396223  12722         0\n",
       "6510          US  4/08/20  429052  14695         0\n",
       "6660          US  4/06/20  366614  10783         0\n",
       "\n",
       "[78 rows x 5 columns]"
      ]
     },
     "execution_count": 35,
     "metadata": {},
     "output_type": "execute_result"
    }
   ],
   "source": [
    "A.get_group('US')"
   ]
  },
  {
   "cell_type": "code",
   "execution_count": 44,
   "metadata": {},
   "outputs": [],
   "source": [
    "Country_Timeline= open(\"country_timeline.json\",'w')\n",
    "subprocess.call(\"curl --location --request GET 'https://api.thevirustracker.com/free-api?countryTimeline=US'\" , shell=True , stdout = Country_Timeline)\n",
    "with open(\"country_timeline.json\",'r') as file:\n",
    "    output_Country_Timeline = json.load(file)\n"
   ]
  },
  {
   "cell_type": "code",
   "execution_count": 54,
   "metadata": {},
   "outputs": [
    {
     "data": {
      "text/plain": [
       "{'new_daily_cases': 32829,\n",
       " 'new_daily_deaths': 1973,\n",
       " 'total_cases': 429052,\n",
       " 'total_recoveries': 0,\n",
       " 'total_deaths': 14695}"
      ]
     },
     "execution_count": 54,
     "metadata": {},
     "output_type": "execute_result"
    }
   ],
   "source": [
    "len(output_Country_Timeline)\n",
    "output_Country_Timeline['timelineitems'][0]['4/08/20']"
   ]
  },
  {
   "cell_type": "code",
   "execution_count": 25,
   "metadata": {},
   "outputs": [],
   "source": [
    "Total= open(\"Total.json\",'w')\n",
    "subprocess.call(\"curl --location --request GET 'https://corona.lmao.ninja/all'\" , shell=True , stdout = Total)\n",
    "with open(\"Total.json\",'r') as file:\n",
    "    output_Total = json.load(file)\n"
   ]
  },
  {
   "cell_type": "code",
   "execution_count": 26,
   "metadata": {},
   "outputs": [
    {
     "data": {
      "text/plain": [
       "{'updated': 1586645126262,\n",
       " 'cases': 1775206,\n",
       " 'todayCases': 76325,\n",
       " 'deaths': 108544,\n",
       " 'todayDeaths': 5857,\n",
       " 'recovered': 401517,\n",
       " 'active': 1265145,\n",
       " 'critical': 50397,\n",
       " 'casesPerOneMillion': 228,\n",
       " 'deathsPerOneMillion': 13,\n",
       " 'tests': 13846153,\n",
       " 'testsPerOneMillion': 1778.3,\n",
       " 'affectedCountries': 212}"
      ]
     },
     "execution_count": 26,
     "metadata": {},
     "output_type": "execute_result"
    }
   ],
   "source": [
    "output_Total"
   ]
  },
  {
   "cell_type": "code",
   "execution_count": 27,
   "metadata": {},
   "outputs": [],
   "source": [
    "Total_DataFrame = pandas.DataFrame([list(output_Total.values())] , columns=list(output_Total.keys()))"
   ]
  },
  {
   "cell_type": "code",
   "execution_count": 28,
   "metadata": {},
   "outputs": [
    {
     "data": {
      "text/html": [
       "<div>\n",
       "<style scoped>\n",
       "    .dataframe tbody tr th:only-of-type {\n",
       "        vertical-align: middle;\n",
       "    }\n",
       "\n",
       "    .dataframe tbody tr th {\n",
       "        vertical-align: top;\n",
       "    }\n",
       "\n",
       "    .dataframe thead th {\n",
       "        text-align: right;\n",
       "    }\n",
       "</style>\n",
       "<table border=\"1\" class=\"dataframe\">\n",
       "  <thead>\n",
       "    <tr style=\"text-align: right;\">\n",
       "      <th></th>\n",
       "      <th>updated</th>\n",
       "      <th>cases</th>\n",
       "      <th>todayCases</th>\n",
       "      <th>deaths</th>\n",
       "      <th>todayDeaths</th>\n",
       "      <th>recovered</th>\n",
       "      <th>active</th>\n",
       "      <th>critical</th>\n",
       "      <th>casesPerOneMillion</th>\n",
       "      <th>deathsPerOneMillion</th>\n",
       "      <th>tests</th>\n",
       "      <th>testsPerOneMillion</th>\n",
       "      <th>affectedCountries</th>\n",
       "    </tr>\n",
       "  </thead>\n",
       "  <tbody>\n",
       "    <tr>\n",
       "      <th>0</th>\n",
       "      <td>1586645126262</td>\n",
       "      <td>1775206</td>\n",
       "      <td>76325</td>\n",
       "      <td>108544</td>\n",
       "      <td>5857</td>\n",
       "      <td>401517</td>\n",
       "      <td>1265145</td>\n",
       "      <td>50397</td>\n",
       "      <td>228</td>\n",
       "      <td>13</td>\n",
       "      <td>13846153</td>\n",
       "      <td>1778.3</td>\n",
       "      <td>212</td>\n",
       "    </tr>\n",
       "  </tbody>\n",
       "</table>\n",
       "</div>"
      ],
      "text/plain": [
       "         updated    cases  todayCases  deaths  todayDeaths  recovered  \\\n",
       "0  1586645126262  1775206       76325  108544         5857     401517   \n",
       "\n",
       "    active  critical  casesPerOneMillion  deathsPerOneMillion     tests  \\\n",
       "0  1265145     50397                 228                   13  13846153   \n",
       "\n",
       "   testsPerOneMillion  affectedCountries  \n",
       "0              1778.3                212  "
      ]
     },
     "execution_count": 28,
     "metadata": {},
     "output_type": "execute_result"
    }
   ],
   "source": [
    "Total_DataFrame"
   ]
  },
  {
   "cell_type": "code",
   "execution_count": 29,
   "metadata": {},
   "outputs": [],
   "source": [
    "import matplotlib.pyplot as plt"
   ]
  },
  {
   "cell_type": "code",
   "execution_count": 86,
   "metadata": {},
   "outputs": [
    {
     "data": {
      "image/png": "[encoded data removed]",
      "text/plain": [
       "<Figure size 432x288 with 1 Axes>"
      ]
     },
     "metadata": {},
     "output_type": "display_data"
    }
   ],
   "source": [
    "D = []\n",
    "D.append(list(Total_DataFrame['cases'])[0])\n",
    "D.append(list(Total_DataFrame['deaths'])[0])\n",
    "D.append(list(Total_DataFrame['recovered'])[0])\n",
    "\"\"\"\n",
    "def autopct_format(values):\n",
    "    def my_format(pct):\n",
    "        total = sum(values)\n",
    "        val = int(round(pct*total/100.0))\n",
    "        return '{v:d}'.format(v=val)\n",
    "    return my_format\n",
    "\"\"\"\n",
    "\n",
    "Labels = ['Cases'+' : '+str(f'{D[0]:,}') , 'Deaths'+' : '+str(f'{D[1]:,}') , 'Recovered'+' : '+str(f'{D[2]:,}')]\n",
    "colors = ['#66b3ff','#ff6666','#99ff99']\n",
    "explode = (0.09, 0, 0.08)\n",
    "fig1, ax1 = plt.subplots()\n",
    "fig1.set_facecolor('#222831')\n",
    "patches, texts, autotexts = ax1.pie(D,explode = explode,pctdistance=0.8 ,labeldistance=1.08,colors = colors, autopct = '%1.1f%%',shadow=True,labels=Labels, startangle=90)\n",
    "\n",
    "for text in texts:\n",
    "    text.set_color('white')\n",
    "    text.set_fontsize(13)\n",
    "for autotext in autotexts:\n",
    "    autotext.set_color('black')\n",
    "    autotext.set_fontsize(12)\n",
    "\n",
    "ax1.axis('equal')\n",
    "#plt.style.use('ggplot')\n",
    "#fig1.set_facecolor('#222831')\n",
    "\n",
    "plt.tight_layout()\n",
    "fig1.savefig('world_pie.png' , facecolor ='#222831'  )\n",
    "#fig1.savefig('world_pie.png' , facecolor ='#222831'  )\n",
    "#plt.show()\n"
   ]
  },
  {
   "cell_type": "code",
   "execution_count": 31,
   "metadata": {},
   "outputs": [],
   "source": [
    "\n",
    "Countries= open(\"Countries.json\",'w')\n",
    "subprocess.call(\"curl --location --request GET 'https://corona.lmao.ninja/countries?sort=country'\"  , shell=True , stdout = Countries)\n",
    "with open(\"Countries.json\",'r') as file:\n",
    "    output_Countries = json.load(file)"
   ]
  },
  {
   "cell_type": "code",
   "execution_count": 207,
   "metadata": {},
   "outputs": [],
   "source": [
    "\"\"\"\n",
    "Date_List = []\n",
    "count = 0\n",
    "for item in output_Historical:\n",
    "    Date_List += list(item['timeline']['cases'].keys())\n",
    "    count+=1\n",
    "print(count)\n",
    "\"\"\"\n",
    "output_Countries[0]\n",
    "Countries_DataFrame1 = pandas.DataFrame([list(output_Countries[i].values()) for i in range(len(output_Countries)) ] ,columns=list(output_Countries[0].keys()))"
   ]
  },
  {
   "cell_type": "code",
   "execution_count": 208,
   "metadata": {},
   "outputs": [],
   "source": [
    "Countries_DataFrame1 = Countries_DataFrame1.drop('countryInfo',axis = 1)"
   ]
  },
  {
   "cell_type": "code",
   "execution_count": 209,
   "metadata": {},
   "outputs": [],
   "source": [
    "Countries_DataFrame2 = pandas.DataFrame([list(output_Countries[i]['countryInfo'].values()) for i in range(len(output_Countries)) ] ,columns=list(output_Countries[0]['countryInfo'].keys()))"
   ]
  },
  {
   "cell_type": "code",
   "execution_count": 216,
   "metadata": {},
   "outputs": [
    {
     "data": {
      "text/html": [
       "<div>\n",
       "<style scoped>\n",
       "    .dataframe tbody tr th:only-of-type {\n",
       "        vertical-align: middle;\n",
       "    }\n",
       "\n",
       "    .dataframe tbody tr th {\n",
       "        vertical-align: top;\n",
       "    }\n",
       "\n",
       "    .dataframe thead th {\n",
       "        text-align: right;\n",
       "    }\n",
       "</style>\n",
       "<table border=\"1\" class=\"dataframe\">\n",
       "  <thead>\n",
       "    <tr style=\"text-align: right;\">\n",
       "      <th></th>\n",
       "      <th>_id</th>\n",
       "      <th>iso2</th>\n",
       "      <th>iso3</th>\n",
       "      <th>lat</th>\n",
       "      <th>long</th>\n",
       "      <th>flag</th>\n",
       "    </tr>\n",
       "  </thead>\n",
       "  <tbody>\n",
       "    <tr>\n",
       "      <th>0</th>\n",
       "      <td>716.0</td>\n",
       "      <td>ZW</td>\n",
       "      <td>ZWE</td>\n",
       "      <td>-20.0</td>\n",
       "      <td>30.0</td>\n",
       "      <td>https://raw.githubusercontent.com/NovelCOVID/A...</td>\n",
       "    </tr>\n",
       "  </tbody>\n",
       "</table>\n",
       "</div>"
      ],
      "text/plain": [
       "     _id iso2 iso3   lat  long  \\\n",
       "0  716.0   ZW  ZWE -20.0  30.0   \n",
       "\n",
       "                                                flag  \n",
       "0  https://raw.githubusercontent.com/NovelCOVID/A...  "
      ]
     },
     "execution_count": 216,
     "metadata": {},
     "output_type": "execute_result"
    }
   ],
   "source": [
    "Countries_DataFrame2.head(1)"
   ]
  },
  {
   "cell_type": "code",
   "execution_count": 218,
   "metadata": {},
   "outputs": [],
   "source": [
    "A = list(Countries_DataFrame2['flag'])\n",
    "B = list(Countries_DataFrame2['long'])\n",
    "C = list(Countries_DataFrame2['lat'])\n",
    "D = list(Countries_DataFrame2['iso3'])\n",
    "E = list(Countries_DataFrame2['iso2'])\n",
    "F = list(Countries_DataFrame2['_id'])\n",
    "\n",
    "Countries_DataFrame1['flag'] = A\n",
    "Countries_DataFrame1['long'] = B\n",
    "Countries_DataFrame1['lat'] = C\n",
    "Countries_DataFrame1['iso3'] = D\n",
    "Countries_DataFrame1['iso2'] = E\n",
    "Countries_DataFrame1['_id'] = F"
   ]
  },
  {
   "cell_type": "code",
   "execution_count": 220,
   "metadata": {},
   "outputs": [
    {
     "data": {
      "text/html": [
       "<div>\n",
       "<style scoped>\n",
       "    .dataframe tbody tr th:only-of-type {\n",
       "        vertical-align: middle;\n",
       "    }\n",
       "\n",
       "    .dataframe tbody tr th {\n",
       "        vertical-align: top;\n",
       "    }\n",
       "\n",
       "    .dataframe thead th {\n",
       "        text-align: right;\n",
       "    }\n",
       "</style>\n",
       "<table border=\"1\" class=\"dataframe\">\n",
       "  <thead>\n",
       "    <tr style=\"text-align: right;\">\n",
       "      <th></th>\n",
       "      <th>updated</th>\n",
       "      <th>country</th>\n",
       "      <th>cases</th>\n",
       "      <th>todayCases</th>\n",
       "      <th>deaths</th>\n",
       "      <th>todayDeaths</th>\n",
       "      <th>recovered</th>\n",
       "      <th>active</th>\n",
       "      <th>critical</th>\n",
       "      <th>casesPerOneMillion</th>\n",
       "      <th>deathsPerOneMillion</th>\n",
       "      <th>tests</th>\n",
       "      <th>testsPerOneMillion</th>\n",
       "      <th>flag</th>\n",
       "      <th>long</th>\n",
       "      <th>lat</th>\n",
       "      <th>iso3</th>\n",
       "      <th>iso2</th>\n",
       "      <th>_id</th>\n",
       "    </tr>\n",
       "  </thead>\n",
       "  <tbody>\n",
       "    <tr>\n",
       "      <th>0</th>\n",
       "      <td>1586467201618</td>\n",
       "      <td>Zimbabwe</td>\n",
       "      <td>11</td>\n",
       "      <td>0</td>\n",
       "      <td>3</td>\n",
       "      <td>0</td>\n",
       "      <td>0</td>\n",
       "      <td>8</td>\n",
       "      <td>0</td>\n",
       "      <td>0</td>\n",
       "      <td>0</td>\n",
       "      <td>371</td>\n",
       "      <td>25</td>\n",
       "      <td>https://raw.githubusercontent.com/NovelCOVID/A...</td>\n",
       "      <td>30.0</td>\n",
       "      <td>-20.0</td>\n",
       "      <td>ZWE</td>\n",
       "      <td>ZW</td>\n",
       "      <td>716.0</td>\n",
       "    </tr>\n",
       "    <tr>\n",
       "      <th>1</th>\n",
       "      <td>1586467201613</td>\n",
       "      <td>Zambia</td>\n",
       "      <td>39</td>\n",
       "      <td>0</td>\n",
       "      <td>1</td>\n",
       "      <td>0</td>\n",
       "      <td>24</td>\n",
       "      <td>14</td>\n",
       "      <td>1</td>\n",
       "      <td>2</td>\n",
       "      <td>0</td>\n",
       "      <td>1239</td>\n",
       "      <td>67</td>\n",
       "      <td>https://raw.githubusercontent.com/NovelCOVID/A...</td>\n",
       "      <td>30.0</td>\n",
       "      <td>-15.0</td>\n",
       "      <td>ZMB</td>\n",
       "      <td>ZM</td>\n",
       "      <td>894.0</td>\n",
       "    </tr>\n",
       "    <tr>\n",
       "      <th>2</th>\n",
       "      <td>1586467201623</td>\n",
       "      <td>Western Sahara</td>\n",
       "      <td>4</td>\n",
       "      <td>0</td>\n",
       "      <td>0</td>\n",
       "      <td>0</td>\n",
       "      <td>0</td>\n",
       "      <td>4</td>\n",
       "      <td>0</td>\n",
       "      <td>7</td>\n",
       "      <td>0</td>\n",
       "      <td>0</td>\n",
       "      <td>0</td>\n",
       "      <td>https://raw.githubusercontent.com/NovelCOVID/A...</td>\n",
       "      <td>-13.0</td>\n",
       "      <td>24.5</td>\n",
       "      <td>ESH</td>\n",
       "      <td>EH</td>\n",
       "      <td>732.0</td>\n",
       "    </tr>\n",
       "    <tr>\n",
       "      <th>3</th>\n",
       "      <td>1586467201606</td>\n",
       "      <td>Vietnam</td>\n",
       "      <td>255</td>\n",
       "      <td>4</td>\n",
       "      <td>0</td>\n",
       "      <td>0</td>\n",
       "      <td>128</td>\n",
       "      <td>127</td>\n",
       "      <td>8</td>\n",
       "      <td>3</td>\n",
       "      <td>0</td>\n",
       "      <td>114241</td>\n",
       "      <td>1174</td>\n",
       "      <td>https://raw.githubusercontent.com/NovelCOVID/A...</td>\n",
       "      <td>106.0</td>\n",
       "      <td>16.0</td>\n",
       "      <td>VNM</td>\n",
       "      <td>VN</td>\n",
       "      <td>704.0</td>\n",
       "    </tr>\n",
       "    <tr>\n",
       "      <th>4</th>\n",
       "      <td>1586467201608</td>\n",
       "      <td>Venezuela</td>\n",
       "      <td>171</td>\n",
       "      <td>4</td>\n",
       "      <td>9</td>\n",
       "      <td>0</td>\n",
       "      <td>84</td>\n",
       "      <td>78</td>\n",
       "      <td>6</td>\n",
       "      <td>6</td>\n",
       "      <td>0</td>\n",
       "      <td>139282</td>\n",
       "      <td>4898</td>\n",
       "      <td>https://raw.githubusercontent.com/NovelCOVID/A...</td>\n",
       "      <td>-66.0</td>\n",
       "      <td>8.0</td>\n",
       "      <td>VEN</td>\n",
       "      <td>VE</td>\n",
       "      <td>862.0</td>\n",
       "    </tr>\n",
       "  </tbody>\n",
       "</table>\n",
       "</div>"
      ],
      "text/plain": [
       "         updated         country  cases  todayCases  deaths  todayDeaths  \\\n",
       "0  1586467201618        Zimbabwe     11           0       3            0   \n",
       "1  1586467201613          Zambia     39           0       1            0   \n",
       "2  1586467201623  Western Sahara      4           0       0            0   \n",
       "3  1586467201606         Vietnam    255           4       0            0   \n",
       "4  1586467201608       Venezuela    171           4       9            0   \n",
       "\n",
       "   recovered  active  critical  casesPerOneMillion  deathsPerOneMillion  \\\n",
       "0          0       8         0                   0                    0   \n",
       "1         24      14         1                   2                    0   \n",
       "2          0       4         0                   7                    0   \n",
       "3        128     127         8                   3                    0   \n",
       "4         84      78         6                   6                    0   \n",
       "\n",
       "    tests  testsPerOneMillion  \\\n",
       "0     371                  25   \n",
       "1    1239                  67   \n",
       "2       0                   0   \n",
       "3  114241                1174   \n",
       "4  139282                4898   \n",
       "\n",
       "                                                flag   long   lat iso3 iso2  \\\n",
       "0  https://raw.githubusercontent.com/NovelCOVID/A...   30.0 -20.0  ZWE   ZW   \n",
       "1  https://raw.githubusercontent.com/NovelCOVID/A...   30.0 -15.0  ZMB   ZM   \n",
       "2  https://raw.githubusercontent.com/NovelCOVID/A...  -13.0  24.5  ESH   EH   \n",
       "3  https://raw.githubusercontent.com/NovelCOVID/A...  106.0  16.0  VNM   VN   \n",
       "4  https://raw.githubusercontent.com/NovelCOVID/A...  -66.0   8.0  VEN   VE   \n",
       "\n",
       "     _id  \n",
       "0  716.0  \n",
       "1  894.0  \n",
       "2  732.0  \n",
       "3  704.0  \n",
       "4  862.0  "
      ]
     },
     "execution_count": 220,
     "metadata": {},
     "output_type": "execute_result"
    }
   ],
   "source": [
    "Countries_DataFrame1.head()"
   ]
  },
  {
   "cell_type": "code",
   "execution_count": 224,
   "metadata": {},
   "outputs": [],
   "source": [
    "Countries_DataFrame = Countries_DataFrame1.sort_values('cases' , ascending=False)"
   ]
  },
  {
   "cell_type": "code",
   "execution_count": 225,
   "metadata": {},
   "outputs": [
    {
     "data": {
      "text/html": [
       "<div>\n",
       "<style scoped>\n",
       "    .dataframe tbody tr th:only-of-type {\n",
       "        vertical-align: middle;\n",
       "    }\n",
       "\n",
       "    .dataframe tbody tr th {\n",
       "        vertical-align: top;\n",
       "    }\n",
       "\n",
       "    .dataframe thead th {\n",
       "        text-align: right;\n",
       "    }\n",
       "</style>\n",
       "<table border=\"1\" class=\"dataframe\">\n",
       "  <thead>\n",
       "    <tr style=\"text-align: right;\">\n",
       "      <th></th>\n",
       "      <th>updated</th>\n",
       "      <th>country</th>\n",
       "      <th>cases</th>\n",
       "      <th>todayCases</th>\n",
       "      <th>deaths</th>\n",
       "      <th>todayDeaths</th>\n",
       "      <th>recovered</th>\n",
       "      <th>active</th>\n",
       "      <th>critical</th>\n",
       "      <th>casesPerOneMillion</th>\n",
       "      <th>deathsPerOneMillion</th>\n",
       "      <th>tests</th>\n",
       "      <th>testsPerOneMillion</th>\n",
       "      <th>flag</th>\n",
       "      <th>long</th>\n",
       "      <th>lat</th>\n",
       "      <th>iso3</th>\n",
       "      <th>iso2</th>\n",
       "      <th>_id</th>\n",
       "    </tr>\n",
       "  </thead>\n",
       "  <tbody>\n",
       "    <tr>\n",
       "      <th>9</th>\n",
       "      <td>1586467201582</td>\n",
       "      <td>USA</td>\n",
       "      <td>462271</td>\n",
       "      <td>27344</td>\n",
       "      <td>16448</td>\n",
       "      <td>1660</td>\n",
       "      <td>25139</td>\n",
       "      <td>420684</td>\n",
       "      <td>9823</td>\n",
       "      <td>1397</td>\n",
       "      <td>50</td>\n",
       "      <td>2344016</td>\n",
       "      <td>7082</td>\n",
       "      <td>https://raw.githubusercontent.com/NovelCOVID/A...</td>\n",
       "      <td>-97.0000</td>\n",
       "      <td>38.0000</td>\n",
       "      <td>USA</td>\n",
       "      <td>US</td>\n",
       "      <td>840.0</td>\n",
       "    </tr>\n",
       "    <tr>\n",
       "      <th>29</th>\n",
       "      <td>1586467201582</td>\n",
       "      <td>Spain</td>\n",
       "      <td>152446</td>\n",
       "      <td>4226</td>\n",
       "      <td>15238</td>\n",
       "      <td>446</td>\n",
       "      <td>52165</td>\n",
       "      <td>85043</td>\n",
       "      <td>7371</td>\n",
       "      <td>3261</td>\n",
       "      <td>326</td>\n",
       "      <td>355000</td>\n",
       "      <td>7593</td>\n",
       "      <td>https://raw.githubusercontent.com/NovelCOVID/A...</td>\n",
       "      <td>-4.0000</td>\n",
       "      <td>40.0000</td>\n",
       "      <td>ESP</td>\n",
       "      <td>ES</td>\n",
       "      <td>724.0</td>\n",
       "    </tr>\n",
       "    <tr>\n",
       "      <th>111</th>\n",
       "      <td>1586467201582</td>\n",
       "      <td>Italy</td>\n",
       "      <td>143626</td>\n",
       "      <td>4204</td>\n",
       "      <td>18279</td>\n",
       "      <td>610</td>\n",
       "      <td>28470</td>\n",
       "      <td>96877</td>\n",
       "      <td>3605</td>\n",
       "      <td>2375</td>\n",
       "      <td>302</td>\n",
       "      <td>853369</td>\n",
       "      <td>14114</td>\n",
       "      <td>https://raw.githubusercontent.com/NovelCOVID/A...</td>\n",
       "      <td>12.8333</td>\n",
       "      <td>42.8333</td>\n",
       "      <td>ITA</td>\n",
       "      <td>IT</td>\n",
       "      <td>380.0</td>\n",
       "    </tr>\n",
       "    <tr>\n",
       "      <th>141</th>\n",
       "      <td>1586467201582</td>\n",
       "      <td>France</td>\n",
       "      <td>117749</td>\n",
       "      <td>4799</td>\n",
       "      <td>12210</td>\n",
       "      <td>1341</td>\n",
       "      <td>23206</td>\n",
       "      <td>82333</td>\n",
       "      <td>7066</td>\n",
       "      <td>1804</td>\n",
       "      <td>187</td>\n",
       "      <td>333807</td>\n",
       "      <td>5114</td>\n",
       "      <td>https://raw.githubusercontent.com/NovelCOVID/A...</td>\n",
       "      <td>2.0000</td>\n",
       "      <td>46.0000</td>\n",
       "      <td>FRA</td>\n",
       "      <td>FR</td>\n",
       "      <td>250.0</td>\n",
       "    </tr>\n",
       "    <tr>\n",
       "      <th>135</th>\n",
       "      <td>1586467201582</td>\n",
       "      <td>Germany</td>\n",
       "      <td>116801</td>\n",
       "      <td>3505</td>\n",
       "      <td>2451</td>\n",
       "      <td>102</td>\n",
       "      <td>52407</td>\n",
       "      <td>61943</td>\n",
       "      <td>4895</td>\n",
       "      <td>1394</td>\n",
       "      <td>29</td>\n",
       "      <td>1317887</td>\n",
       "      <td>15730</td>\n",
       "      <td>https://raw.githubusercontent.com/NovelCOVID/A...</td>\n",
       "      <td>9.0000</td>\n",
       "      <td>51.0000</td>\n",
       "      <td>DEU</td>\n",
       "      <td>DE</td>\n",
       "      <td>276.0</td>\n",
       "    </tr>\n",
       "  </tbody>\n",
       "</table>\n",
       "</div>"
      ],
      "text/plain": [
       "           updated  country   cases  todayCases  deaths  todayDeaths  \\\n",
       "9    1586467201582      USA  462271       27344   16448         1660   \n",
       "29   1586467201582    Spain  152446        4226   15238          446   \n",
       "111  1586467201582    Italy  143626        4204   18279          610   \n",
       "141  1586467201582   France  117749        4799   12210         1341   \n",
       "135  1586467201582  Germany  116801        3505    2451          102   \n",
       "\n",
       "     recovered  active  critical  casesPerOneMillion  deathsPerOneMillion  \\\n",
       "9        25139  420684      9823                1397                   50   \n",
       "29       52165   85043      7371                3261                  326   \n",
       "111      28470   96877      3605                2375                  302   \n",
       "141      23206   82333      7066                1804                  187   \n",
       "135      52407   61943      4895                1394                   29   \n",
       "\n",
       "       tests  testsPerOneMillion  \\\n",
       "9    2344016                7082   \n",
       "29    355000                7593   \n",
       "111   853369               14114   \n",
       "141   333807                5114   \n",
       "135  1317887               15730   \n",
       "\n",
       "                                                  flag     long      lat iso3  \\\n",
       "9    https://raw.githubusercontent.com/NovelCOVID/A... -97.0000  38.0000  USA   \n",
       "29   https://raw.githubusercontent.com/NovelCOVID/A...  -4.0000  40.0000  ESP   \n",
       "111  https://raw.githubusercontent.com/NovelCOVID/A...  12.8333  42.8333  ITA   \n",
       "141  https://raw.githubusercontent.com/NovelCOVID/A...   2.0000  46.0000  FRA   \n",
       "135  https://raw.githubusercontent.com/NovelCOVID/A...   9.0000  51.0000  DEU   \n",
       "\n",
       "    iso2    _id  \n",
       "9     US  840.0  \n",
       "29    ES  724.0  \n",
       "111   IT  380.0  \n",
       "141   FR  250.0  \n",
       "135   DE  276.0  "
      ]
     },
     "execution_count": 225,
     "metadata": {},
     "output_type": "execute_result"
    }
   ],
   "source": [
    "Countries_DataFrame.head()"
   ]
  },
  {
   "cell_type": "code",
   "execution_count": null,
   "metadata": {},
   "outputs": [],
   "source": []
  }
 ],
 "metadata": {
  "kernelspec": {
   "display_name": "Python 3",
   "language": "python",
   "name": "python3"
  },
  "language_info": {
   "codemirror_mode": {
    "name": "ipython",
    "version": 3
   },
   "file_extension": ".py",
   "mimetype": "text/x-python",
   "name": "python",
   "nbconvert_exporter": "python",
   "pygments_lexer": "ipython3",
   "version": "3.7.1"
  }
 },
 "nbformat": 4,
 "nbformat_minor": 2
}
